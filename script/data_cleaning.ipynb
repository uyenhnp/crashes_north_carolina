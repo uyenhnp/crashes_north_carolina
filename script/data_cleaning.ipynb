{
 "cells": [
  {
   "cell_type": "markdown",
   "id": "19a984c9",
   "metadata": {},
   "source": [
    "Uyen Huynh"
   ]
  },
  {
   "cell_type": "markdown",
   "id": "2997689b",
   "metadata": {},
   "source": [
    "# Crash Data from Town of Cary, North Carolina"
   ]
  },
  {
   "cell_type": "code",
   "execution_count": 1,
   "id": "ae6af751",
   "metadata": {},
   "outputs": [],
   "source": [
    "import pandas as pd\n",
    "import numpy as np\n",
    "import matplotlib.pyplot as plt\n",
    "import nltk\n",
    "import re\n",
    "import warnings\n",
    "warnings.filterwarnings(\"ignore\")\n",
    "pd.set_option('display.max_columns', None)\n",
    "pd.set_option('display.max_rows', None)"
   ]
  },
  {
   "cell_type": "code",
   "execution_count": 2,
   "id": "9e8e875e",
   "metadata": {},
   "outputs": [],
   "source": [
    "original_data = pd.read_csv(\"../data/cpd-crash-incidents-2022.csv\", sep=\";\")"
   ]
  },
  {
   "cell_type": "code",
   "execution_count": 3,
   "id": "9a650eed",
   "metadata": {},
   "outputs": [
    {
     "data": {
      "text/html": [
       "<div>\n",
       "<style scoped>\n",
       "    .dataframe tbody tr th:only-of-type {\n",
       "        vertical-align: middle;\n",
       "    }\n",
       "\n",
       "    .dataframe tbody tr th {\n",
       "        vertical-align: top;\n",
       "    }\n",
       "\n",
       "    .dataframe thead th {\n",
       "        text-align: right;\n",
       "    }\n",
       "</style>\n",
       "<table border=\"1\" class=\"dataframe\">\n",
       "  <thead>\n",
       "    <tr style=\"text-align: right;\">\n",
       "      <th></th>\n",
       "      <th>tamainid</th>\n",
       "      <th>Location_Description</th>\n",
       "      <th>Road_Feature</th>\n",
       "      <th>Road_Character</th>\n",
       "      <th>Road_Class</th>\n",
       "      <th>Road_Configuration</th>\n",
       "      <th>Road_Surface</th>\n",
       "      <th>Road_Conditions</th>\n",
       "      <th>Light_Condition</th>\n",
       "      <th>Weather</th>\n",
       "      <th>Traffic_Control</th>\n",
       "      <th>lat</th>\n",
       "      <th>lon</th>\n",
       "      <th>lon2</th>\n",
       "      <th>lat2</th>\n",
       "      <th>tract</th>\n",
       "      <th>Beat</th>\n",
       "      <th>Fatality</th>\n",
       "      <th>Injury</th>\n",
       "      <th>NumPassengers</th>\n",
       "      <th>NumPedestrians</th>\n",
       "      <th>Contributing_Factor_1</th>\n",
       "      <th>Contributing_Factor_2</th>\n",
       "      <th>Contributing_Factor_3</th>\n",
       "      <th>Contributing_Factor_4</th>\n",
       "      <th>Vehicle1</th>\n",
       "      <th>Vehicle2</th>\n",
       "      <th>Vehicle3</th>\n",
       "      <th>Vehicle4</th>\n",
       "      <th>Vehicle5</th>\n",
       "      <th>Work Area</th>\n",
       "      <th>Records</th>\n",
       "      <th>TA_Date</th>\n",
       "      <th>TA_Time</th>\n",
       "      <th>Crash_Date</th>\n",
       "      <th>Geo_Location</th>\n",
       "      <th>year</th>\n",
       "      <th>Fatalities</th>\n",
       "      <th>Injuries</th>\n",
       "      <th>Month</th>\n",
       "      <th>contrfact1</th>\n",
       "      <th>contrfact2</th>\n",
       "      <th>Contributing Factor</th>\n",
       "      <th>vehicleconcat1</th>\n",
       "      <th>vehicleconcat2</th>\n",
       "      <th>vehicleconcat3</th>\n",
       "      <th>Vehicle Type</th>\n",
       "    </tr>\n",
       "  </thead>\n",
       "  <tbody>\n",
       "    <tr>\n",
       "      <th>0</th>\n",
       "      <td>48491</td>\n",
       "      <td>50 FEET FROM SR 7119 (OKELLY CHAPEL RD)</td>\n",
       "      <td>RELATED TO INTERSECTION</td>\n",
       "      <td>STRAIGHT,LEVEL</td>\n",
       "      <td>STATE SECONDARY ROUTE</td>\n",
       "      <td>TWO-WAY,DIVIDED,UNPROTECTED MEDIAN</td>\n",
       "      <td>SMOOTH ASPHALT</td>\n",
       "      <td>DRY</td>\n",
       "      <td>DAYLIGHT</td>\n",
       "      <td>CLEAR</td>\n",
       "      <td>STOP AND GO SIGNAL</td>\n",
       "      <td>35.845768</td>\n",
       "      <td>-78.890778</td>\n",
       "      <td>-78.890454</td>\n",
       "      <td>35.845969</td>\n",
       "      <td>P091</td>\n",
       "      <td>119.0</td>\n",
       "      <td>0</td>\n",
       "      <td>0</td>\n",
       "      <td>NaN</td>\n",
       "      <td>NaN</td>\n",
       "      <td>NONE</td>\n",
       "      <td>NaN</td>\n",
       "      <td>NONE</td>\n",
       "      <td>NaN</td>\n",
       "      <td>VAN</td>\n",
       "      <td>PASSENGER CAR</td>\n",
       "      <td>NaN</td>\n",
       "      <td>NaN</td>\n",
       "      <td>NaN</td>\n",
       "      <td>NO</td>\n",
       "      <td>20002</td>\n",
       "      <td>2021-07-29</td>\n",
       "      <td>1:22:09 PM</td>\n",
       "      <td>2021-07-29T13:22:09-04:00</td>\n",
       "      <td>35.845768402,-78.89077828</td>\n",
       "      <td>2021</td>\n",
       "      <td>No</td>\n",
       "      <td>No</td>\n",
       "      <td>7</td>\n",
       "      <td>NONE</td>\n",
       "      <td>NONE,NONE</td>\n",
       "      <td>NONE,NONE</td>\n",
       "      <td>VAN,PASSENGER CAR</td>\n",
       "      <td>VAN,PASSENGER CAR</td>\n",
       "      <td>VAN,PASSENGER CAR</td>\n",
       "      <td>VAN,PASSENGER CAR</td>\n",
       "    </tr>\n",
       "    <tr>\n",
       "      <th>1</th>\n",
       "      <td>48503</td>\n",
       "      <td>CARY</td>\n",
       "      <td>NaN</td>\n",
       "      <td>NaN</td>\n",
       "      <td>NaN</td>\n",
       "      <td>NaN</td>\n",
       "      <td>NaN</td>\n",
       "      <td>NaN</td>\n",
       "      <td>NaN</td>\n",
       "      <td>NaN</td>\n",
       "      <td>NaN</td>\n",
       "      <td>NaN</td>\n",
       "      <td>NaN</td>\n",
       "      <td>NaN</td>\n",
       "      <td>NaN</td>\n",
       "      <td>NaN</td>\n",
       "      <td>NaN</td>\n",
       "      <td>0</td>\n",
       "      <td>0</td>\n",
       "      <td>NaN</td>\n",
       "      <td>NaN</td>\n",
       "      <td>NaN</td>\n",
       "      <td>NaN</td>\n",
       "      <td>NaN</td>\n",
       "      <td>NaN</td>\n",
       "      <td>NaN</td>\n",
       "      <td>NaN</td>\n",
       "      <td>NaN</td>\n",
       "      <td>NaN</td>\n",
       "      <td>NaN</td>\n",
       "      <td>NaN</td>\n",
       "      <td>20014</td>\n",
       "      <td>2021-07-30</td>\n",
       "      <td>9:59:04 PM</td>\n",
       "      <td>2021-07-30T21:59:04-04:00</td>\n",
       "      <td>NaN</td>\n",
       "      <td>2021</td>\n",
       "      <td>No</td>\n",
       "      <td>No</td>\n",
       "      <td>7</td>\n",
       "      <td>NaN</td>\n",
       "      <td>NaN</td>\n",
       "      <td>NaN</td>\n",
       "      <td>NaN</td>\n",
       "      <td>NaN</td>\n",
       "      <td>NaN</td>\n",
       "      <td>NaN</td>\n",
       "    </tr>\n",
       "    <tr>\n",
       "      <th>2</th>\n",
       "      <td>48504</td>\n",
       "      <td>100 FEET FROM SR 1009 (TRYON RD)</td>\n",
       "      <td>NO SPECIAL FEATURE</td>\n",
       "      <td>CURVE,GRADE</td>\n",
       "      <td>STATE SECONDARY ROUTE</td>\n",
       "      <td>TWO-WAY,DIVIDED,UNPROTECTED MEDIAN</td>\n",
       "      <td>SMOOTH ASPHALT</td>\n",
       "      <td>DRY</td>\n",
       "      <td>DAYLIGHT</td>\n",
       "      <td>CLEAR</td>\n",
       "      <td>NO CONTROL PRESENT</td>\n",
       "      <td>NaN</td>\n",
       "      <td>NaN</td>\n",
       "      <td>-78.789427</td>\n",
       "      <td>35.736288</td>\n",
       "      <td>NaN</td>\n",
       "      <td>NaN</td>\n",
       "      <td>0</td>\n",
       "      <td>2</td>\n",
       "      <td>1.0</td>\n",
       "      <td>NaN</td>\n",
       "      <td>NONE</td>\n",
       "      <td>NaN</td>\n",
       "      <td>NONE</td>\n",
       "      <td>NaN</td>\n",
       "      <td>SPORT UTILITY</td>\n",
       "      <td>SPORT UTILITY</td>\n",
       "      <td>NaN</td>\n",
       "      <td>NaN</td>\n",
       "      <td>NaN</td>\n",
       "      <td>NO</td>\n",
       "      <td>20015</td>\n",
       "      <td>2021-07-30</td>\n",
       "      <td>6:27:15 PM</td>\n",
       "      <td>2021-07-30T18:27:15-04:00</td>\n",
       "      <td>NaN</td>\n",
       "      <td>2021</td>\n",
       "      <td>No</td>\n",
       "      <td>Yes</td>\n",
       "      <td>7</td>\n",
       "      <td>NONE</td>\n",
       "      <td>NONE,NONE</td>\n",
       "      <td>NONE,NONE</td>\n",
       "      <td>SPORT UTILITY,SPORT UTILITY</td>\n",
       "      <td>SPORT UTILITY,SPORT UTILITY</td>\n",
       "      <td>SPORT UTILITY,SPORT UTILITY</td>\n",
       "      <td>SPORT UTILITY,SPORT UTILITY</td>\n",
       "    </tr>\n",
       "    <tr>\n",
       "      <th>3</th>\n",
       "      <td>48512</td>\n",
       "      <td>0 FEET FROM SR 1305 (ARTHUR PIERCE RD)</td>\n",
       "      <td>T-INTERSECTION</td>\n",
       "      <td>STRAIGHT,LEVEL</td>\n",
       "      <td>STATE SECONDARY ROUTE</td>\n",
       "      <td>TWO-WAY,NOT DIVIDED</td>\n",
       "      <td>SMOOTH ASPHALT</td>\n",
       "      <td>DRY</td>\n",
       "      <td>DAYLIGHT</td>\n",
       "      <td>CLEAR</td>\n",
       "      <td>STOP SIGN</td>\n",
       "      <td>NaN</td>\n",
       "      <td>NaN</td>\n",
       "      <td>-78.791558</td>\n",
       "      <td>35.696910</td>\n",
       "      <td>NaN</td>\n",
       "      <td>NaN</td>\n",
       "      <td>0</td>\n",
       "      <td>1</td>\n",
       "      <td>1.0</td>\n",
       "      <td>NaN</td>\n",
       "      <td>NONE</td>\n",
       "      <td>NaN</td>\n",
       "      <td>NONE</td>\n",
       "      <td>NaN</td>\n",
       "      <td>SPORT UTILITY</td>\n",
       "      <td>PASSENGER CAR</td>\n",
       "      <td>NaN</td>\n",
       "      <td>NaN</td>\n",
       "      <td>NaN</td>\n",
       "      <td>NO</td>\n",
       "      <td>20023</td>\n",
       "      <td>2021-07-31</td>\n",
       "      <td>2:02:47 AM</td>\n",
       "      <td>2021-07-31T02:02:47-04:00</td>\n",
       "      <td>NaN</td>\n",
       "      <td>2021</td>\n",
       "      <td>No</td>\n",
       "      <td>Yes</td>\n",
       "      <td>7</td>\n",
       "      <td>NONE</td>\n",
       "      <td>NONE,NONE</td>\n",
       "      <td>NONE,NONE</td>\n",
       "      <td>SPORT UTILITY,PASSENGER CAR</td>\n",
       "      <td>SPORT UTILITY,PASSENGER CAR</td>\n",
       "      <td>SPORT UTILITY,PASSENGER CAR</td>\n",
       "      <td>SPORT UTILITY,PASSENGER CAR</td>\n",
       "    </tr>\n",
       "    <tr>\n",
       "      <th>4</th>\n",
       "      <td>48513</td>\n",
       "      <td>.25 MILES FROM SR 5808 (E CHATHAM ST)</td>\n",
       "      <td>DRIVEWAY, PUBLIC</td>\n",
       "      <td>STRAIGHT,LEVEL</td>\n",
       "      <td>LOCAL STREET</td>\n",
       "      <td>TWO-WAY,NOT DIVIDED</td>\n",
       "      <td>SMOOTH ASPHALT</td>\n",
       "      <td>DRY</td>\n",
       "      <td>DAYLIGHT</td>\n",
       "      <td>CLOUDY</td>\n",
       "      <td>STOP SIGN</td>\n",
       "      <td>NaN</td>\n",
       "      <td>NaN</td>\n",
       "      <td>-78.759864</td>\n",
       "      <td>35.791459</td>\n",
       "      <td>NaN</td>\n",
       "      <td>120.0</td>\n",
       "      <td>0</td>\n",
       "      <td>0</td>\n",
       "      <td>1.0</td>\n",
       "      <td>NaN</td>\n",
       "      <td>NONE</td>\n",
       "      <td>NaN</td>\n",
       "      <td>NONE</td>\n",
       "      <td>NaN</td>\n",
       "      <td>PASSENGER CAR</td>\n",
       "      <td>SPORT UTILITY</td>\n",
       "      <td>NaN</td>\n",
       "      <td>NaN</td>\n",
       "      <td>NaN</td>\n",
       "      <td>NO</td>\n",
       "      <td>20024</td>\n",
       "      <td>2021-08-01</td>\n",
       "      <td>11:57 AM</td>\n",
       "      <td>2021-08-01T11:57:00-04:00</td>\n",
       "      <td>NaN</td>\n",
       "      <td>2021</td>\n",
       "      <td>No</td>\n",
       "      <td>No</td>\n",
       "      <td>8</td>\n",
       "      <td>NONE</td>\n",
       "      <td>NONE,NONE</td>\n",
       "      <td>NONE,NONE</td>\n",
       "      <td>PASSENGER CAR,SPORT UTILITY</td>\n",
       "      <td>PASSENGER CAR,SPORT UTILITY</td>\n",
       "      <td>PASSENGER CAR,SPORT UTILITY</td>\n",
       "      <td>PASSENGER CAR,SPORT UTILITY</td>\n",
       "    </tr>\n",
       "  </tbody>\n",
       "</table>\n",
       "</div>"
      ],
      "text/plain": [
       "   tamainid                     Location_Description             Road_Feature  \\\n",
       "0     48491  50 FEET FROM SR 7119 (OKELLY CHAPEL RD)  RELATED TO INTERSECTION   \n",
       "1     48503                                     CARY                      NaN   \n",
       "2     48504         100 FEET FROM SR 1009 (TRYON RD)       NO SPECIAL FEATURE   \n",
       "3     48512   0 FEET FROM SR 1305 (ARTHUR PIERCE RD)           T-INTERSECTION   \n",
       "4     48513    .25 MILES FROM SR 5808 (E CHATHAM ST)         DRIVEWAY, PUBLIC   \n",
       "\n",
       "   Road_Character             Road_Class                  Road_Configuration  \\\n",
       "0  STRAIGHT,LEVEL  STATE SECONDARY ROUTE  TWO-WAY,DIVIDED,UNPROTECTED MEDIAN   \n",
       "1             NaN                    NaN                                 NaN   \n",
       "2     CURVE,GRADE  STATE SECONDARY ROUTE  TWO-WAY,DIVIDED,UNPROTECTED MEDIAN   \n",
       "3  STRAIGHT,LEVEL  STATE SECONDARY ROUTE                 TWO-WAY,NOT DIVIDED   \n",
       "4  STRAIGHT,LEVEL           LOCAL STREET                 TWO-WAY,NOT DIVIDED   \n",
       "\n",
       "     Road_Surface Road_Conditions Light_Condition Weather     Traffic_Control  \\\n",
       "0  SMOOTH ASPHALT             DRY        DAYLIGHT   CLEAR  STOP AND GO SIGNAL   \n",
       "1             NaN             NaN             NaN     NaN                 NaN   \n",
       "2  SMOOTH ASPHALT             DRY        DAYLIGHT   CLEAR  NO CONTROL PRESENT   \n",
       "3  SMOOTH ASPHALT             DRY        DAYLIGHT   CLEAR           STOP SIGN   \n",
       "4  SMOOTH ASPHALT             DRY        DAYLIGHT  CLOUDY           STOP SIGN   \n",
       "\n",
       "         lat        lon       lon2       lat2 tract   Beat  Fatality  Injury  \\\n",
       "0  35.845768 -78.890778 -78.890454  35.845969  P091  119.0         0       0   \n",
       "1        NaN        NaN        NaN        NaN   NaN    NaN         0       0   \n",
       "2        NaN        NaN -78.789427  35.736288   NaN    NaN         0       2   \n",
       "3        NaN        NaN -78.791558  35.696910   NaN    NaN         0       1   \n",
       "4        NaN        NaN -78.759864  35.791459   NaN  120.0         0       0   \n",
       "\n",
       "   NumPassengers  NumPedestrians Contributing_Factor_1 Contributing_Factor_2  \\\n",
       "0            NaN             NaN                  NONE                   NaN   \n",
       "1            NaN             NaN                   NaN                   NaN   \n",
       "2            1.0             NaN                  NONE                   NaN   \n",
       "3            1.0             NaN                  NONE                   NaN   \n",
       "4            1.0             NaN                  NONE                   NaN   \n",
       "\n",
       "  Contributing_Factor_3 Contributing_Factor_4       Vehicle1       Vehicle2  \\\n",
       "0                  NONE                   NaN            VAN  PASSENGER CAR   \n",
       "1                   NaN                   NaN            NaN            NaN   \n",
       "2                  NONE                   NaN  SPORT UTILITY  SPORT UTILITY   \n",
       "3                  NONE                   NaN  SPORT UTILITY  PASSENGER CAR   \n",
       "4                  NONE                   NaN  PASSENGER CAR  SPORT UTILITY   \n",
       "\n",
       "  Vehicle3 Vehicle4 Vehicle5 Work Area  Records     TA_Date     TA_Time  \\\n",
       "0      NaN      NaN      NaN        NO    20002  2021-07-29  1:22:09 PM   \n",
       "1      NaN      NaN      NaN       NaN    20014  2021-07-30  9:59:04 PM   \n",
       "2      NaN      NaN      NaN        NO    20015  2021-07-30  6:27:15 PM   \n",
       "3      NaN      NaN      NaN        NO    20023  2021-07-31  2:02:47 AM   \n",
       "4      NaN      NaN      NaN        NO    20024  2021-08-01    11:57 AM   \n",
       "\n",
       "                  Crash_Date               Geo_Location  year Fatalities  \\\n",
       "0  2021-07-29T13:22:09-04:00  35.845768402,-78.89077828  2021         No   \n",
       "1  2021-07-30T21:59:04-04:00                        NaN  2021         No   \n",
       "2  2021-07-30T18:27:15-04:00                        NaN  2021         No   \n",
       "3  2021-07-31T02:02:47-04:00                        NaN  2021         No   \n",
       "4  2021-08-01T11:57:00-04:00                        NaN  2021         No   \n",
       "\n",
       "  Injuries  Month contrfact1 contrfact2 Contributing Factor  \\\n",
       "0       No      7       NONE  NONE,NONE           NONE,NONE   \n",
       "1       No      7        NaN        NaN                 NaN   \n",
       "2      Yes      7       NONE  NONE,NONE           NONE,NONE   \n",
       "3      Yes      7       NONE  NONE,NONE           NONE,NONE   \n",
       "4       No      8       NONE  NONE,NONE           NONE,NONE   \n",
       "\n",
       "                vehicleconcat1               vehicleconcat2  \\\n",
       "0            VAN,PASSENGER CAR            VAN,PASSENGER CAR   \n",
       "1                          NaN                          NaN   \n",
       "2  SPORT UTILITY,SPORT UTILITY  SPORT UTILITY,SPORT UTILITY   \n",
       "3  SPORT UTILITY,PASSENGER CAR  SPORT UTILITY,PASSENGER CAR   \n",
       "4  PASSENGER CAR,SPORT UTILITY  PASSENGER CAR,SPORT UTILITY   \n",
       "\n",
       "                vehicleconcat3                 Vehicle Type  \n",
       "0            VAN,PASSENGER CAR            VAN,PASSENGER CAR  \n",
       "1                          NaN                          NaN  \n",
       "2  SPORT UTILITY,SPORT UTILITY  SPORT UTILITY,SPORT UTILITY  \n",
       "3  SPORT UTILITY,PASSENGER CAR  SPORT UTILITY,PASSENGER CAR  \n",
       "4  PASSENGER CAR,SPORT UTILITY  PASSENGER CAR,SPORT UTILITY  "
      ]
     },
     "execution_count": 3,
     "metadata": {},
     "output_type": "execute_result"
    }
   ],
   "source": [
    "original_data.head()"
   ]
  },
  {
   "cell_type": "code",
   "execution_count": 4,
   "id": "218911a8",
   "metadata": {},
   "outputs": [
    {
     "name": "stdout",
     "output_type": "stream",
     "text": [
      "There are 22513 records of indicents.\n"
     ]
    }
   ],
   "source": [
    "print(f'There are {len(original_data)} records of indicents.')"
   ]
  },
  {
   "cell_type": "code",
   "execution_count": 5,
   "id": "f682e173",
   "metadata": {},
   "outputs": [
    {
     "data": {
      "text/plain": [
       "Index(['tamainid', 'Location_Description', 'Road_Feature', 'Road_Character',\n",
       "       'Road_Class', 'Road_Configuration', 'Road_Surface', 'Road_Conditions',\n",
       "       'Light_Condition', 'Weather', 'Traffic_Control', 'lat', 'lon', 'lon2',\n",
       "       'lat2', 'tract', 'Beat', 'Fatality', 'Injury', 'NumPassengers',\n",
       "       'NumPedestrians', 'Contributing_Factor_1', 'Contributing_Factor_2',\n",
       "       'Contributing_Factor_3', 'Contributing_Factor_4', 'Vehicle1',\n",
       "       'Vehicle2', 'Vehicle3', 'Vehicle4', 'Vehicle5', 'Work Area', 'Records',\n",
       "       'TA_Date', 'TA_Time', 'Crash_Date', 'Geo_Location', 'year',\n",
       "       'Fatalities', 'Injuries', 'Month', 'contrfact1', 'contrfact2',\n",
       "       'Contributing Factor', 'vehicleconcat1', 'vehicleconcat2',\n",
       "       'vehicleconcat3', 'Vehicle Type'],\n",
       "      dtype='object')"
      ]
     },
     "execution_count": 5,
     "metadata": {},
     "output_type": "execute_result"
    }
   ],
   "source": [
    "original_data.columns"
   ]
  },
  {
   "cell_type": "markdown",
   "id": "5f3c6cfa",
   "metadata": {},
   "source": [
    "### Merge duplicated columns showing lat & lon which corresponds to the location of the crash."
   ]
  },
  {
   "cell_type": "code",
   "execution_count": 6,
   "id": "79392588",
   "metadata": {},
   "outputs": [
    {
     "data": {
      "text/html": [
       "<div>\n",
       "<style scoped>\n",
       "    .dataframe tbody tr th:only-of-type {\n",
       "        vertical-align: middle;\n",
       "    }\n",
       "\n",
       "    .dataframe tbody tr th {\n",
       "        vertical-align: top;\n",
       "    }\n",
       "\n",
       "    .dataframe thead th {\n",
       "        text-align: right;\n",
       "    }\n",
       "</style>\n",
       "<table border=\"1\" class=\"dataframe\">\n",
       "  <thead>\n",
       "    <tr style=\"text-align: right;\">\n",
       "      <th></th>\n",
       "      <th>lat</th>\n",
       "      <th>lon</th>\n",
       "      <th>lat2</th>\n",
       "      <th>lon2</th>\n",
       "      <th>Geo_Location</th>\n",
       "    </tr>\n",
       "  </thead>\n",
       "  <tbody>\n",
       "    <tr>\n",
       "      <th>22503</th>\n",
       "      <td>35.973047</td>\n",
       "      <td>-78.674481</td>\n",
       "      <td>35.843600</td>\n",
       "      <td>-78.886000</td>\n",
       "      <td>35.973047186,-78.67448141</td>\n",
       "    </tr>\n",
       "    <tr>\n",
       "      <th>22504</th>\n",
       "      <td>35.765984</td>\n",
       "      <td>-78.783606</td>\n",
       "      <td>35.765513</td>\n",
       "      <td>-78.783283</td>\n",
       "      <td>35.765984299,-78.7836056</td>\n",
       "    </tr>\n",
       "    <tr>\n",
       "      <th>22505</th>\n",
       "      <td>NaN</td>\n",
       "      <td>NaN</td>\n",
       "      <td>35.758050</td>\n",
       "      <td>-78.783077</td>\n",
       "      <td>NaN</td>\n",
       "    </tr>\n",
       "    <tr>\n",
       "      <th>22506</th>\n",
       "      <td>NaN</td>\n",
       "      <td>NaN</td>\n",
       "      <td>35.736283</td>\n",
       "      <td>-78.787799</td>\n",
       "      <td>NaN</td>\n",
       "    </tr>\n",
       "    <tr>\n",
       "      <th>22507</th>\n",
       "      <td>NaN</td>\n",
       "      <td>NaN</td>\n",
       "      <td>35.737967</td>\n",
       "      <td>-78.794655</td>\n",
       "      <td>NaN</td>\n",
       "    </tr>\n",
       "    <tr>\n",
       "      <th>22508</th>\n",
       "      <td>NaN</td>\n",
       "      <td>NaN</td>\n",
       "      <td>35.758189</td>\n",
       "      <td>-78.783184</td>\n",
       "      <td>NaN</td>\n",
       "    </tr>\n",
       "    <tr>\n",
       "      <th>22509</th>\n",
       "      <td>NaN</td>\n",
       "      <td>NaN</td>\n",
       "      <td>35.762013</td>\n",
       "      <td>-78.748459</td>\n",
       "      <td>NaN</td>\n",
       "    </tr>\n",
       "    <tr>\n",
       "      <th>22510</th>\n",
       "      <td>NaN</td>\n",
       "      <td>NaN</td>\n",
       "      <td>35.753321</td>\n",
       "      <td>-78.731095</td>\n",
       "      <td>NaN</td>\n",
       "    </tr>\n",
       "    <tr>\n",
       "      <th>22511</th>\n",
       "      <td>NaN</td>\n",
       "      <td>NaN</td>\n",
       "      <td>35.705004</td>\n",
       "      <td>-78.794510</td>\n",
       "      <td>NaN</td>\n",
       "    </tr>\n",
       "    <tr>\n",
       "      <th>22512</th>\n",
       "      <td>35.790917</td>\n",
       "      <td>-78.827138</td>\n",
       "      <td>35.790523</td>\n",
       "      <td>-78.826956</td>\n",
       "      <td>35.790916978,-78.82713802</td>\n",
       "    </tr>\n",
       "  </tbody>\n",
       "</table>\n",
       "</div>"
      ],
      "text/plain": [
       "             lat        lon       lat2       lon2               Geo_Location\n",
       "22503  35.973047 -78.674481  35.843600 -78.886000  35.973047186,-78.67448141\n",
       "22504  35.765984 -78.783606  35.765513 -78.783283   35.765984299,-78.7836056\n",
       "22505        NaN        NaN  35.758050 -78.783077                        NaN\n",
       "22506        NaN        NaN  35.736283 -78.787799                        NaN\n",
       "22507        NaN        NaN  35.737967 -78.794655                        NaN\n",
       "22508        NaN        NaN  35.758189 -78.783184                        NaN\n",
       "22509        NaN        NaN  35.762013 -78.748459                        NaN\n",
       "22510        NaN        NaN  35.753321 -78.731095                        NaN\n",
       "22511        NaN        NaN  35.705004 -78.794510                        NaN\n",
       "22512  35.790917 -78.827138  35.790523 -78.826956  35.790916978,-78.82713802"
      ]
     },
     "execution_count": 6,
     "metadata": {},
     "output_type": "execute_result"
    }
   ],
   "source": [
    "original_data[['lat', 'lon', 'lat2', 'lon2', 'Geo_Location']].tail(10)"
   ]
  },
  {
   "cell_type": "code",
   "execution_count": 7,
   "id": "c80954c4",
   "metadata": {},
   "outputs": [
    {
     "name": "stdout",
     "output_type": "stream",
     "text": [
      "# NaN values in the original 'lat' column : 17464.\n",
      "# NaN values in the 'latitude' column after filling values: 542.\n",
      "# NaN values in the original 'lon' column : 17464.\n",
      "# NaN values in the 'longitude' column after filling values: 532.\n"
     ]
    }
   ],
   "source": [
    "def isnan(x):\n",
    "    return x != x\n",
    "\n",
    "def merge_lat(x):\n",
    "    lat = x['lat']\n",
    "    if isnan(lat):\n",
    "        if not isnan(x['lat2']):\n",
    "            lat = x['lat2']\n",
    "        elif not isnan(x['Geo_Location']):\n",
    "            lat = x['Geo_Location'].split(',')[0]\n",
    "    return lat\n",
    "\n",
    "def merge_lon(x):\n",
    "    lon = x['lon']\n",
    "    if isnan(lon):\n",
    "        lon = x['lon2']\n",
    "    elif not isnan(x['Geo_Location']):\n",
    "        lon = x['Geo_Location'].split(',')[1]\n",
    "    return lon\n",
    "\n",
    "print(f\"# NaN values in the original 'lat' column : {original_data['lat'].isna().sum()}.\")\n",
    "original_data['latitude'] = original_data.apply(merge_lat, axis=1)\n",
    "print(f\"# NaN values in the 'latitude' column after filling values: {original_data['latitude'].isna().sum()}.\")\n",
    "\n",
    "print(f\"# NaN values in the original 'lon' column : {original_data['lon'].isna().sum()}.\")\n",
    "original_data['longitude'] = original_data.apply(merge_lon, axis=1)\n",
    "print(f\"# NaN values in the 'longitude' column after filling values: {original_data['longitude'].isna().sum()}.\")"
   ]
  },
  {
   "cell_type": "code",
   "execution_count": 8,
   "id": "1bbaae3a",
   "metadata": {},
   "outputs": [],
   "source": [
    "# Remove 'lat', 'lon', 'lat2', 'lon2', 'Geo_Location'\n",
    "data = original_data.copy().drop(columns=['lat', 'lon', 'lat2', 'lon2', 'Geo_Location'])"
   ]
  },
  {
   "cell_type": "markdown",
   "id": "ff63dd52",
   "metadata": {},
   "source": [
    "### Handle columns containing info about vehicles"
   ]
  },
  {
   "cell_type": "code",
   "execution_count": 9,
   "id": "09ef9cb7",
   "metadata": {},
   "outputs": [
    {
     "data": {
      "text/plain": [
       "['vehicleconcat1', 'vehicleconcat2', 'vehicleconcat3', 'Vehicle Type']"
      ]
     },
     "execution_count": 9,
     "metadata": {},
     "output_type": "execute_result"
    }
   ],
   "source": [
    "vehicle_cols_remove = [x for x in data.columns if 'veh' in x]\n",
    "vehicle_cols_remove.append('Vehicle Type')\n",
    "vehicle_cols_remove"
   ]
  },
  {
   "cell_type": "code",
   "execution_count": 10,
   "id": "ecebd871",
   "metadata": {},
   "outputs": [],
   "source": [
    "# Remove duplicated columns about vehicle types\n",
    "data = data.drop(columns=vehicle_cols_remove)"
   ]
  },
  {
   "cell_type": "markdown",
   "id": "1b5322c1",
   "metadata": {},
   "source": [
    "### Handle columns about contributing factor"
   ]
  },
  {
   "cell_type": "code",
   "execution_count": 11,
   "id": "6749bbc0",
   "metadata": {},
   "outputs": [
    {
     "data": {
      "text/plain": [
       "['Contributing_Factor_1',\n",
       " 'Contributing_Factor_2',\n",
       " 'Contributing_Factor_3',\n",
       " 'Contributing_Factor_4',\n",
       " 'contrfact1',\n",
       " 'contrfact2',\n",
       " 'Contributing Factor']"
      ]
     },
     "execution_count": 11,
     "metadata": {},
     "output_type": "execute_result"
    }
   ],
   "source": [
    "factor_cols = [x for x in data.columns if 'Factor' in x or 'fact' in x]\n",
    "factor_cols"
   ]
  },
  {
   "cell_type": "code",
   "execution_count": 12,
   "id": "65dd9d3e",
   "metadata": {},
   "outputs": [],
   "source": [
    "# Remove 3 columns: 'contrfact1', 'contrfact2', 'Contributing Factor'\n",
    "data = data.drop(columns=['contrfact1', 'contrfact2'])"
   ]
  },
  {
   "cell_type": "code",
   "execution_count": 13,
   "id": "1174574e",
   "metadata": {},
   "outputs": [
    {
     "data": {
      "text/html": [
       "<div>\n",
       "<style scoped>\n",
       "    .dataframe tbody tr th:only-of-type {\n",
       "        vertical-align: middle;\n",
       "    }\n",
       "\n",
       "    .dataframe tbody tr th {\n",
       "        vertical-align: top;\n",
       "    }\n",
       "\n",
       "    .dataframe thead th {\n",
       "        text-align: right;\n",
       "    }\n",
       "</style>\n",
       "<table border=\"1\" class=\"dataframe\">\n",
       "  <thead>\n",
       "    <tr style=\"text-align: right;\">\n",
       "      <th></th>\n",
       "      <th>tamainid</th>\n",
       "      <th>Location_Description</th>\n",
       "      <th>Road_Feature</th>\n",
       "      <th>Road_Character</th>\n",
       "      <th>Road_Class</th>\n",
       "      <th>Road_Configuration</th>\n",
       "      <th>Road_Surface</th>\n",
       "      <th>Road_Conditions</th>\n",
       "      <th>Light_Condition</th>\n",
       "      <th>Weather</th>\n",
       "      <th>Traffic_Control</th>\n",
       "      <th>tract</th>\n",
       "      <th>Beat</th>\n",
       "      <th>Fatality</th>\n",
       "      <th>Injury</th>\n",
       "      <th>NumPassengers</th>\n",
       "      <th>NumPedestrians</th>\n",
       "      <th>Contributing_Factor_1</th>\n",
       "      <th>Contributing_Factor_2</th>\n",
       "      <th>Contributing_Factor_3</th>\n",
       "      <th>Contributing_Factor_4</th>\n",
       "      <th>Vehicle1</th>\n",
       "      <th>Vehicle2</th>\n",
       "      <th>Vehicle3</th>\n",
       "      <th>Vehicle4</th>\n",
       "      <th>Vehicle5</th>\n",
       "      <th>Work Area</th>\n",
       "      <th>Records</th>\n",
       "      <th>TA_Date</th>\n",
       "      <th>TA_Time</th>\n",
       "      <th>Crash_Date</th>\n",
       "      <th>year</th>\n",
       "      <th>Fatalities</th>\n",
       "      <th>Injuries</th>\n",
       "      <th>Month</th>\n",
       "      <th>Contributing Factor</th>\n",
       "      <th>latitude</th>\n",
       "      <th>longitude</th>\n",
       "    </tr>\n",
       "  </thead>\n",
       "  <tbody>\n",
       "    <tr>\n",
       "      <th>0</th>\n",
       "      <td>48491</td>\n",
       "      <td>50 FEET FROM SR 7119 (OKELLY CHAPEL RD)</td>\n",
       "      <td>RELATED TO INTERSECTION</td>\n",
       "      <td>STRAIGHT,LEVEL</td>\n",
       "      <td>STATE SECONDARY ROUTE</td>\n",
       "      <td>TWO-WAY,DIVIDED,UNPROTECTED MEDIAN</td>\n",
       "      <td>SMOOTH ASPHALT</td>\n",
       "      <td>DRY</td>\n",
       "      <td>DAYLIGHT</td>\n",
       "      <td>CLEAR</td>\n",
       "      <td>STOP AND GO SIGNAL</td>\n",
       "      <td>P091</td>\n",
       "      <td>119.0</td>\n",
       "      <td>0</td>\n",
       "      <td>0</td>\n",
       "      <td>NaN</td>\n",
       "      <td>NaN</td>\n",
       "      <td>NONE</td>\n",
       "      <td>NaN</td>\n",
       "      <td>NONE</td>\n",
       "      <td>NaN</td>\n",
       "      <td>VAN</td>\n",
       "      <td>PASSENGER CAR</td>\n",
       "      <td>NaN</td>\n",
       "      <td>NaN</td>\n",
       "      <td>NaN</td>\n",
       "      <td>NO</td>\n",
       "      <td>20002</td>\n",
       "      <td>2021-07-29</td>\n",
       "      <td>1:22:09 PM</td>\n",
       "      <td>2021-07-29T13:22:09-04:00</td>\n",
       "      <td>2021</td>\n",
       "      <td>No</td>\n",
       "      <td>No</td>\n",
       "      <td>7</td>\n",
       "      <td>NONE,NONE</td>\n",
       "      <td>35.845768</td>\n",
       "      <td>-78.89077828</td>\n",
       "    </tr>\n",
       "    <tr>\n",
       "      <th>1</th>\n",
       "      <td>48503</td>\n",
       "      <td>CARY</td>\n",
       "      <td>NaN</td>\n",
       "      <td>NaN</td>\n",
       "      <td>NaN</td>\n",
       "      <td>NaN</td>\n",
       "      <td>NaN</td>\n",
       "      <td>NaN</td>\n",
       "      <td>NaN</td>\n",
       "      <td>NaN</td>\n",
       "      <td>NaN</td>\n",
       "      <td>NaN</td>\n",
       "      <td>NaN</td>\n",
       "      <td>0</td>\n",
       "      <td>0</td>\n",
       "      <td>NaN</td>\n",
       "      <td>NaN</td>\n",
       "      <td>NaN</td>\n",
       "      <td>NaN</td>\n",
       "      <td>NaN</td>\n",
       "      <td>NaN</td>\n",
       "      <td>NaN</td>\n",
       "      <td>NaN</td>\n",
       "      <td>NaN</td>\n",
       "      <td>NaN</td>\n",
       "      <td>NaN</td>\n",
       "      <td>NaN</td>\n",
       "      <td>20014</td>\n",
       "      <td>2021-07-30</td>\n",
       "      <td>9:59:04 PM</td>\n",
       "      <td>2021-07-30T21:59:04-04:00</td>\n",
       "      <td>2021</td>\n",
       "      <td>No</td>\n",
       "      <td>No</td>\n",
       "      <td>7</td>\n",
       "      <td>NaN</td>\n",
       "      <td>NaN</td>\n",
       "      <td>NaN</td>\n",
       "    </tr>\n",
       "    <tr>\n",
       "      <th>2</th>\n",
       "      <td>48504</td>\n",
       "      <td>100 FEET FROM SR 1009 (TRYON RD)</td>\n",
       "      <td>NO SPECIAL FEATURE</td>\n",
       "      <td>CURVE,GRADE</td>\n",
       "      <td>STATE SECONDARY ROUTE</td>\n",
       "      <td>TWO-WAY,DIVIDED,UNPROTECTED MEDIAN</td>\n",
       "      <td>SMOOTH ASPHALT</td>\n",
       "      <td>DRY</td>\n",
       "      <td>DAYLIGHT</td>\n",
       "      <td>CLEAR</td>\n",
       "      <td>NO CONTROL PRESENT</td>\n",
       "      <td>NaN</td>\n",
       "      <td>NaN</td>\n",
       "      <td>0</td>\n",
       "      <td>2</td>\n",
       "      <td>1.0</td>\n",
       "      <td>NaN</td>\n",
       "      <td>NONE</td>\n",
       "      <td>NaN</td>\n",
       "      <td>NONE</td>\n",
       "      <td>NaN</td>\n",
       "      <td>SPORT UTILITY</td>\n",
       "      <td>SPORT UTILITY</td>\n",
       "      <td>NaN</td>\n",
       "      <td>NaN</td>\n",
       "      <td>NaN</td>\n",
       "      <td>NO</td>\n",
       "      <td>20015</td>\n",
       "      <td>2021-07-30</td>\n",
       "      <td>6:27:15 PM</td>\n",
       "      <td>2021-07-30T18:27:15-04:00</td>\n",
       "      <td>2021</td>\n",
       "      <td>No</td>\n",
       "      <td>Yes</td>\n",
       "      <td>7</td>\n",
       "      <td>NONE,NONE</td>\n",
       "      <td>35.736288</td>\n",
       "      <td>-78.7894</td>\n",
       "    </tr>\n",
       "  </tbody>\n",
       "</table>\n",
       "</div>"
      ],
      "text/plain": [
       "   tamainid                     Location_Description             Road_Feature  \\\n",
       "0     48491  50 FEET FROM SR 7119 (OKELLY CHAPEL RD)  RELATED TO INTERSECTION   \n",
       "1     48503                                     CARY                      NaN   \n",
       "2     48504         100 FEET FROM SR 1009 (TRYON RD)       NO SPECIAL FEATURE   \n",
       "\n",
       "   Road_Character             Road_Class                  Road_Configuration  \\\n",
       "0  STRAIGHT,LEVEL  STATE SECONDARY ROUTE  TWO-WAY,DIVIDED,UNPROTECTED MEDIAN   \n",
       "1             NaN                    NaN                                 NaN   \n",
       "2     CURVE,GRADE  STATE SECONDARY ROUTE  TWO-WAY,DIVIDED,UNPROTECTED MEDIAN   \n",
       "\n",
       "     Road_Surface Road_Conditions Light_Condition Weather     Traffic_Control  \\\n",
       "0  SMOOTH ASPHALT             DRY        DAYLIGHT   CLEAR  STOP AND GO SIGNAL   \n",
       "1             NaN             NaN             NaN     NaN                 NaN   \n",
       "2  SMOOTH ASPHALT             DRY        DAYLIGHT   CLEAR  NO CONTROL PRESENT   \n",
       "\n",
       "  tract   Beat  Fatality  Injury  NumPassengers  NumPedestrians  \\\n",
       "0  P091  119.0         0       0            NaN             NaN   \n",
       "1   NaN    NaN         0       0            NaN             NaN   \n",
       "2   NaN    NaN         0       2            1.0             NaN   \n",
       "\n",
       "  Contributing_Factor_1 Contributing_Factor_2 Contributing_Factor_3  \\\n",
       "0                  NONE                   NaN                  NONE   \n",
       "1                   NaN                   NaN                   NaN   \n",
       "2                  NONE                   NaN                  NONE   \n",
       "\n",
       "  Contributing_Factor_4       Vehicle1       Vehicle2 Vehicle3 Vehicle4  \\\n",
       "0                   NaN            VAN  PASSENGER CAR      NaN      NaN   \n",
       "1                   NaN            NaN            NaN      NaN      NaN   \n",
       "2                   NaN  SPORT UTILITY  SPORT UTILITY      NaN      NaN   \n",
       "\n",
       "  Vehicle5 Work Area  Records     TA_Date     TA_Time  \\\n",
       "0      NaN        NO    20002  2021-07-29  1:22:09 PM   \n",
       "1      NaN       NaN    20014  2021-07-30  9:59:04 PM   \n",
       "2      NaN        NO    20015  2021-07-30  6:27:15 PM   \n",
       "\n",
       "                  Crash_Date  year Fatalities Injuries  Month  \\\n",
       "0  2021-07-29T13:22:09-04:00  2021         No       No      7   \n",
       "1  2021-07-30T21:59:04-04:00  2021         No       No      7   \n",
       "2  2021-07-30T18:27:15-04:00  2021         No      Yes      7   \n",
       "\n",
       "  Contributing Factor   latitude     longitude  \n",
       "0           NONE,NONE  35.845768  -78.89077828  \n",
       "1                 NaN        NaN           NaN  \n",
       "2           NONE,NONE  35.736288      -78.7894  "
      ]
     },
     "execution_count": 13,
     "metadata": {},
     "output_type": "execute_result"
    }
   ],
   "source": [
    "data.head(3)"
   ]
  },
  {
   "cell_type": "code",
   "execution_count": 14,
   "id": "66549f1e",
   "metadata": {},
   "outputs": [],
   "source": [
    "crash = data.copy()\n",
    "crash.rename({'Contributing Factor': 'Contributing_Factor'}, axis=1, inplace=True)"
   ]
  },
  {
   "cell_type": "markdown",
   "id": "4492a0db",
   "metadata": {},
   "source": [
    "## Data Cleaning & Data Analysis"
   ]
  },
  {
   "cell_type": "code",
   "execution_count": 15,
   "id": "c24ab1e4",
   "metadata": {},
   "outputs": [],
   "source": [
    "# function: convert NaN values into string 'None'\n",
    "def na_convert_str(data, column):\n",
    "    x = data[column]\n",
    "    if isinstance(x, str):\n",
    "        if x == 'UNKNOWN' or x == 'OTHER *':\n",
    "            return 'NONE'\n",
    "        else:\n",
    "            return x\n",
    "    else:\n",
    "        return 'NONE'"
   ]
  },
  {
   "cell_type": "markdown",
   "id": "4160063d",
   "metadata": {},
   "source": [
    "## 1. Summary Statistics Information"
   ]
  },
  {
   "cell_type": "code",
   "execution_count": 16,
   "id": "1763febe",
   "metadata": {},
   "outputs": [
    {
     "data": {
      "text/plain": [
       "2019    5035\n",
       "2018    5024\n",
       "2017    4731\n",
       "2021    3992\n",
       "2020    3196\n",
       "2022     535\n",
       "Name: year, dtype: int64"
      ]
     },
     "execution_count": 16,
     "metadata": {},
     "output_type": "execute_result"
    }
   ],
   "source": [
    "crash['year'].value_counts()"
   ]
  },
  {
   "cell_type": "markdown",
   "id": "a8c6885c",
   "metadata": {},
   "source": [
    "## 2. The most factors"
   ]
  },
  {
   "cell_type": "code",
   "execution_count": 17,
   "id": "fd55552e",
   "metadata": {},
   "outputs": [],
   "source": [
    "def factor_clean(text):\n",
    "    words = ['NONE,', ',NONE', 'NONE', 'UNKNOWN,', ',UNKNOWN', 'UNKNOWN', 'OTHER *,', ',OTHER *', 'OTHER *']\n",
    "    for w in words:\n",
    "        new_text = text.replace(w, '')\n",
    "        text = new_text\n",
    "    return new_text"
   ]
  },
  {
   "cell_type": "code",
   "execution_count": 18,
   "id": "e670d86d",
   "metadata": {},
   "outputs": [],
   "source": [
    "crash['Contributing_Factor'] = crash.apply(na_convert_str, column='Contributing_Factor', axis=1)\n",
    "crash['Contributing_Factor'] = crash['Contributing_Factor'].apply(factor_clean)"
   ]
  },
  {
   "cell_type": "code",
   "execution_count": 19,
   "id": "4404ea8c",
   "metadata": {},
   "outputs": [
    {
     "data": {
      "text/plain": [
       "                                                                       22014\n",
       "COMING FROM BEHIND PARKED VEHICLE                                        187\n",
       "DARTING                                                                  125\n",
       "FAILURE TO YIELD RIGHT OF WAY                                             80\n",
       "LYING AND/OR ILLEGALLY IN ROADWAY                                         20\n",
       "NOT VISIBLE (DARK CLOTHING,ETC.)                                          16\n",
       "INATTENTIVE (TALKING,EATING,ETC.)                                         14\n",
       "FAILURE TO OBEY TRAFFIC SIGNS,SIGNALS                                      9\n",
       "COMING FROM BEHIND PARKED VEHICLE,COMING FROM BEHIND PARKED VEHICLE        8\n",
       "WRONG SIDE OF ROAD                                                         8\n",
       "FAILURE TO YIELD RIGHT OF WAY,FAILURE TO YIELD RIGHT OF WAY                5\n",
       "DARTING,FAILURE TO YIELD RIGHT OF WAY                                      4\n",
       "DARTING,DARTING                                                            3\n",
       "LYING AND/OR ILLEGALLY IN ROADWAY,NOT VISIBLE (DARK CLOTHING,ETC.)         2\n",
       "NOT VISIBLE (DARK CLOTHING,ETC.),FAILURE TO YIELD RIGHT OF WAY             2\n",
       "COMING FROM BEHIND PARKED VEHICLE,DARTING                                  2\n",
       "WRONG SIDE OF ROAD,DARTING                                                 2\n",
       "NOT VISIBLE (DARK CLOTHING,ETC.),DARTING                                   2\n",
       "FAILURE TO YIELD RIGHT OF WAY,INATTENTIVE (TALKING,EATING,ETC.)            2\n",
       "DARTING,FAILURE TO OBEY TRAFFIC SIGNS,SIGNALS                              2\n",
       "FAILURE TO YIELD RIGHT OF WAY,LYING AND/OR ILLEGALLY IN ROADWAY            1\n",
       "INATTENTIVE (TALKING,EATING,ETC.),INATTENTIVE (TALKING,EATING,ETC.)        1\n",
       "DARTING,NOT VISIBLE (DARK CLOTHING,ETC.)                                   1\n",
       "WRONG SIDE OF ROAD,LYING AND/OR ILLEGALLY IN ROADWAY                       1\n",
       "FAILURE TO OBEY TRAFFIC SIGNS,SIGNALS,FAILURE TO YIELD RIGHT OF WAY        1\n",
       "LYING AND/OR ILLEGALLY IN ROADWAY,FAILURE TO YIELD RIGHT OF WAY            1\n",
       "Name: Contributing_Factor, dtype: int64"
      ]
     },
     "execution_count": 19,
     "metadata": {},
     "output_type": "execute_result"
    }
   ],
   "source": [
    "# top reasons why most crashes happened\n",
    "crash['Contributing_Factor'].value_counts()"
   ]
  },
  {
   "cell_type": "code",
   "execution_count": 20,
   "id": "67c18394",
   "metadata": {},
   "outputs": [
    {
     "data": {
      "text/plain": [
       "                                                                       22014\n",
       "COMING FROM BEHIND PARKED VEHICLE                                        195\n",
       "DARTING                                                                  128\n",
       "FAILURE TO YIELD RIGHT OF WAY                                             85\n",
       "LYING AND/OR ILLEGALLY IN ROADWAY                                         20\n",
       "NOT VISIBLE (DARK CLOTHING,ETC.)                                          16\n",
       "INATTENTIVE (TALKING,EATING,ETC.)                                         15\n",
       "FAILURE TO OBEY TRAFFIC SIGNS,SIGNALS                                      9\n",
       "WRONG SIDE OF ROAD                                                         8\n",
       "DARTING,FAILURE TO YIELD RIGHT OF WAY                                      4\n",
       "NOT VISIBLE (DARK CLOTHING,ETC.),DARTING                                   3\n",
       "DARTING,FAILURE TO OBEY TRAFFIC SIGNS,SIGNALS                              2\n",
       "WRONG SIDE OF ROAD,DARTING                                                 2\n",
       "FAILURE TO YIELD RIGHT OF WAY,INATTENTIVE (TALKING,EATING,ETC.)            2\n",
       "LYING AND/OR ILLEGALLY IN ROADWAY,NOT VISIBLE (DARK CLOTHING,ETC.)         2\n",
       "NOT VISIBLE (DARK CLOTHING,ETC.),FAILURE TO YIELD RIGHT OF WAY             2\n",
       "COMING FROM BEHIND PARKED VEHICLE,DARTING                                  2\n",
       "FAILURE TO OBEY TRAFFIC SIGNS,SIGNALS,FAILURE TO YIELD RIGHT OF WAY        1\n",
       "LYING AND/OR ILLEGALLY IN ROADWAY,FAILURE TO YIELD RIGHT OF WAY            1\n",
       "FAILURE TO YIELD RIGHT OF WAY,LYING AND/OR ILLEGALLY IN ROADWAY            1\n",
       "WRONG SIDE OF ROAD,LYING AND/OR ILLEGALLY IN ROADWAY                       1\n",
       "Name: Contributing_Factor, dtype: int64"
      ]
     },
     "execution_count": 20,
     "metadata": {},
     "output_type": "execute_result"
    }
   ],
   "source": [
    "# factors = ['COMING FROM BEHIND PARKED VEHICLE', \n",
    "#     'DARTING', \n",
    "#     'FAILURE TO YIELD RIGHT OF WAY', \n",
    "#     'LYING AND/OR ILLEGALLY IN ROADWAY', \n",
    "#     'NOT VISIBLE (DARK CLOTHING,ETC.)',\n",
    "#     'INATTENTIVE (TALKING,EATING,ETC.)',\n",
    "#     'FAILURE TO OBEY TRAFFIC SIGNS,SIGNALS',\n",
    "#     'WRONG SIDE OF ROAD']\n",
    "\n",
    "def factor_clean2(x):\n",
    "    if 'ETC.' not in x:\n",
    "        if ',' in x:\n",
    "            lst = x.split(',')\n",
    "            factor1 = lst[0]\n",
    "            same = True\n",
    "            for ele in lst:\n",
    "                if ele != factor1:\n",
    "                    same = False\n",
    "                    break\n",
    "            if same:\n",
    "                return factor1\n",
    "            elif not same:\n",
    "                return x\n",
    "        else:\n",
    "            return x\n",
    "    elif x == \"INATTENTIVE (TALKING,EATING,ETC.),INATTENTIVE (TALKING,EATING,ETC.)\":\n",
    "        return \"INATTENTIVE (TALKING,EATING,ETC.)\"\n",
    "    elif x == \"INATTENTIVE (TALKING,EATING,ETC.)\" or x == \"NOT VISIBLE (DARK CLOTHING,ETC.)\":\n",
    "        return x\n",
    "    elif x == \"FAILURE TO YIELD RIGHT OF WAY,LYING AND/OR ILLEGALLY IN ROADWAY \":\n",
    "        return \"LYING AND/OR ILLEGALLY IN ROADWAY,FAILURE TO YIELD RIGHT OF WAY\"\n",
    "    elif x == \"DARTING,NOT VISIBLE (DARK CLOTHING,ETC.)\":\n",
    "        return \"NOT VISIBLE (DARK CLOTHING,ETC.),DARTING\"\n",
    "    elif x == \"FAILURE TO YIELD RIGHT OF WAY,LYING AND/OR ILLEGALLY IN ROADWAY\":\n",
    "        return \"LYING AND/OR ILLEGALLY IN ROADWAY,FAILURE TO YIELD RIGHT OF WAY\"\n",
    "    else:\n",
    "        return x\n",
    "\n",
    "crash['Contributing_Factor'] = crash['Contributing_Factor'].apply(factor_clean2)\n",
    "crash['Contributing_Factor'].value_counts()\n"
   ]
  },
  {
   "cell_type": "code",
   "execution_count": 21,
   "id": "f314e8d1",
   "metadata": {},
   "outputs": [],
   "source": [
    "fac1 = crash['Contributing_Factor_1'].value_counts().reset_index().rename(columns={'index':'factor', 'Contributing_Factor_1':'count'})\n",
    "fac2 = crash['Contributing_Factor_2'].value_counts().reset_index().rename(columns={'index':'factor', 'Contributing_Factor_2':'count'})\n",
    "fac3 = crash['Contributing_Factor_3'].value_counts().reset_index().rename(columns={'index':'factor', 'Contributing_Factor_3':'count'})\n",
    "fac4 = crash['Contributing_Factor_4'].value_counts().reset_index().rename(columns={'index':'factor', 'Contributing_Factor_4':'count'})"
   ]
  },
  {
   "cell_type": "code",
   "execution_count": 22,
   "id": "df94f23d",
   "metadata": {},
   "outputs": [
    {
     "data": {
      "text/html": [
       "<div>\n",
       "<style scoped>\n",
       "    .dataframe tbody tr th:only-of-type {\n",
       "        vertical-align: middle;\n",
       "    }\n",
       "\n",
       "    .dataframe tbody tr th {\n",
       "        vertical-align: top;\n",
       "    }\n",
       "\n",
       "    .dataframe thead th {\n",
       "        text-align: right;\n",
       "    }\n",
       "</style>\n",
       "<table border=\"1\" class=\"dataframe\">\n",
       "  <thead>\n",
       "    <tr style=\"text-align: right;\">\n",
       "      <th></th>\n",
       "      <th>factor</th>\n",
       "      <th>count</th>\n",
       "      <th>percentage</th>\n",
       "    </tr>\n",
       "  </thead>\n",
       "  <tbody>\n",
       "    <tr>\n",
       "      <th>0</th>\n",
       "      <td>COMING FROM BEHIND PARKED VEHICLE</td>\n",
       "      <td>205</td>\n",
       "      <td>38.0</td>\n",
       "    </tr>\n",
       "    <tr>\n",
       "      <th>1</th>\n",
       "      <td>DARTING</td>\n",
       "      <td>144</td>\n",
       "      <td>26.7</td>\n",
       "    </tr>\n",
       "    <tr>\n",
       "      <th>2</th>\n",
       "      <td>FAILURE TO OBEY TRAFFIC SIGNS, SIGNALS</td>\n",
       "      <td>12</td>\n",
       "      <td>2.2</td>\n",
       "    </tr>\n",
       "    <tr>\n",
       "      <th>3</th>\n",
       "      <td>FAILURE TO YIELD RIGHT OF WAY</td>\n",
       "      <td>101</td>\n",
       "      <td>18.7</td>\n",
       "    </tr>\n",
       "    <tr>\n",
       "      <th>4</th>\n",
       "      <td>INATTENTIVE (TALKING, EATING, ETC.)</td>\n",
       "      <td>18</td>\n",
       "      <td>3.3</td>\n",
       "    </tr>\n",
       "    <tr>\n",
       "      <th>5</th>\n",
       "      <td>LYING AND/OR ILLEGALLY IN ROADWAY</td>\n",
       "      <td>25</td>\n",
       "      <td>4.6</td>\n",
       "    </tr>\n",
       "    <tr>\n",
       "      <th>7</th>\n",
       "      <td>NOT VISIBLE (DARK CLOTHING, ETC.)</td>\n",
       "      <td>23</td>\n",
       "      <td>4.3</td>\n",
       "    </tr>\n",
       "    <tr>\n",
       "      <th>10</th>\n",
       "      <td>WRONG SIDE OF ROAD</td>\n",
       "      <td>11</td>\n",
       "      <td>2.0</td>\n",
       "    </tr>\n",
       "  </tbody>\n",
       "</table>\n",
       "</div>"
      ],
      "text/plain": [
       "                                    factor  count  percentage\n",
       "0        COMING FROM BEHIND PARKED VEHICLE    205        38.0\n",
       "1                                  DARTING    144        26.7\n",
       "2   FAILURE TO OBEY TRAFFIC SIGNS, SIGNALS     12         2.2\n",
       "3            FAILURE TO YIELD RIGHT OF WAY    101        18.7\n",
       "4      INATTENTIVE (TALKING, EATING, ETC.)     18         3.3\n",
       "5        LYING AND/OR ILLEGALLY IN ROADWAY     25         4.6\n",
       "7        NOT VISIBLE (DARK CLOTHING, ETC.)     23         4.3\n",
       "10                      WRONG SIDE OF ROAD     11         2.0"
      ]
     },
     "execution_count": 22,
     "metadata": {},
     "output_type": "execute_result"
    }
   ],
   "source": [
    "factors = pd.concat([fac1, fac2, fac3, fac4])\n",
    "factors = factors.groupby('factor')['count'].sum().reset_index()\n",
    "factors = factors[(factors['factor'] != 'NONE') & (factors['factor'] != 'UNKNOWN') & (factors['factor'] != 'OTHER *')]\n",
    "total = factors['count'].sum()\n",
    "factors['percentage'] = round(factors['count']/total*100, 1)\n",
    "factors"
   ]
  },
  {
   "cell_type": "code",
   "execution_count": 23,
   "id": "952976b7",
   "metadata": {},
   "outputs": [],
   "source": [
    "factors.to_csv('../data/factor_count.csv', index=False, sep=';')"
   ]
  },
  {
   "cell_type": "markdown",
   "id": "2e14e8c5",
   "metadata": {},
   "source": [
    "## 3. Is there any specific time in a day when the majority of traffic accidents happen?"
   ]
  },
  {
   "cell_type": "code",
   "execution_count": 24,
   "id": "491eb77c",
   "metadata": {},
   "outputs": [],
   "source": [
    "# 'Crash_Date': extract the hour when the crash happened\n",
    "crash['Hour'] = crash['Crash_Date'].str[11:13]"
   ]
  },
  {
   "cell_type": "code",
   "execution_count": 25,
   "id": "d7f6353c",
   "metadata": {},
   "outputs": [],
   "source": [
    "hour_count = crash.groupby('Hour').Month.count()\n",
    "hour_count = pd.DataFrame(hour_count)\n",
    "hour_count.reset_index(inplace=True)\n",
    "hour_count.columns = ['Hour', 'Total_Crashes']"
   ]
  },
  {
   "cell_type": "code",
   "execution_count": 26,
   "id": "7aa4b1c4",
   "metadata": {},
   "outputs": [
    {
     "data": {
      "text/plain": [
       "[]"
      ]
     },
     "execution_count": 26,
     "metadata": {},
     "output_type": "execute_result"
    },
    {
     "data": {
      "image/png": "[encoded data removed]",
      "text/plain": [
       "<Figure size 720x360 with 1 Axes>"
      ]
     },
     "metadata": {
      "needs_background": "light"
     },
     "output_type": "display_data"
    }
   ],
   "source": [
    "fig = plt.figure(figsize=(10,5))\n",
    "ax = fig.add_subplot(1,1,1)\n",
    "ax.bar(hour_count['Hour'], hour_count['Total_Crashes'])\n",
    "plt.plot()"
   ]
  },
  {
   "cell_type": "markdown",
   "id": "7997238a",
   "metadata": {},
   "source": [
    "### Hourly Fatality Rate "
   ]
  },
  {
   "cell_type": "code",
   "execution_count": 27,
   "id": "358e80a9",
   "metadata": {},
   "outputs": [],
   "source": [
    "hour_count = crash.groupby('Hour').Fatality.count()\n",
    "hour_fatality = crash[crash['Fatalities'] == 'Yes'].groupby('Hour').Fatalities.count()\n",
    "fat_rate = pd.concat([hour_count, hour_fatality], axis=1)\n",
    "fat_rate.reset_index(inplace=True)\n",
    "fat_rate.columns = ['Hour', 'Total_Crashes', 'Total_Fatality_Cases']\n",
    "fat_rate['Total_Fatality_Cases'] = fat_rate['Total_Fatality_Cases'].fillna(0)\n",
    "fat_rate['Fatality_Rate'] = fat_rate['Total_Fatality_Cases']/fat_rate['Total_Crashes']"
   ]
  },
  {
   "cell_type": "code",
   "execution_count": 28,
   "id": "b5731866",
   "metadata": {},
   "outputs": [],
   "source": [
    "fat_rate.to_csv('../data/fatality_rate_per_hour.csv', index=False)"
   ]
  },
  {
   "cell_type": "markdown",
   "id": "dd2c4b18",
   "metadata": {},
   "source": [
    "### Hourly Injury Rate"
   ]
  },
  {
   "cell_type": "code",
   "execution_count": 29,
   "id": "3af35b2b",
   "metadata": {},
   "outputs": [],
   "source": [
    "hour_injury = crash[crash['Injuries'] == 'Yes'].groupby('Hour').Injuries.count()\n",
    "inj_rate = pd.concat([hour_count, hour_injury], axis=1)\n",
    "inj_rate.reset_index(inplace=True)\n",
    "inj_rate.columns = ['Hour', 'Total_Crashes', 'Total_Injury_Cases']\n",
    "inj_rate['Total_Injury_Cases'] = inj_rate['Total_Injury_Cases'].fillna(0)\n",
    "inj_rate['Injury_Rate'] = inj_rate['Total_Injury_Cases']/fat_rate['Total_Crashes']"
   ]
  },
  {
   "cell_type": "code",
   "execution_count": 30,
   "id": "cb8c9346",
   "metadata": {},
   "outputs": [],
   "source": [
    "inj_rate.to_csv('../data/injury_rate_per_hour.csv', index=False)"
   ]
  },
  {
   "cell_type": "markdown",
   "id": "fb52d581",
   "metadata": {},
   "source": [
    "### 4. Location_Description"
   ]
  },
  {
   "cell_type": "code",
   "execution_count": 31,
   "id": "1352aa6e",
   "metadata": {},
   "outputs": [
    {
     "data": {
      "text/plain": [
       "['CARY',\n",
       " '0 FEET FROM SR 1300 (KILDAIRE FARM RD)',\n",
       " '0 FEET FROM SR 1313 (WALNUT ST)',\n",
       " '1 MILES FROM US 1 HWY',\n",
       " '0 FEET FROM NC 55 HWY',\n",
       " '0 FEET FROM SR 1009 (TRYON RD)',\n",
       " '.5 MILES FROM US 1 HWY',\n",
       " '0 FEET FROM SR 1652 (N HARRISON AV)',\n",
       " '.2 MILES FROM US 1 HWY',\n",
       " '0 FEET FROM SR 1415 (SE MAYNARD RD)']"
      ]
     },
     "execution_count": 31,
     "metadata": {},
     "output_type": "execute_result"
    }
   ],
   "source": [
    "count_per_location = crash['Location_Description'].value_counts().head(10)\n",
    "danger_zone = count_per_location.index.to_list()\n",
    "danger_zone"
   ]
  },
  {
   "cell_type": "code",
   "execution_count": 32,
   "id": "ca2bdd06",
   "metadata": {},
   "outputs": [],
   "source": [
    "# def is_dangerous(x, danger=danger_zone):\n",
    "#     if x in danger:\n",
    "#         return True\n",
    "#     else:\n",
    "#         return False\n",
    "# # condition = [crash['Location_Description'] in danger_zone]\n",
    "# crash['danger'] = crash['Location_Description'].apply(is_dangerous)\n",
    "# danger_df = crash[crash['danger']]\n",
    "# danger_df['Road_Configuration'].value_counts()"
   ]
  },
  {
   "cell_type": "code",
   "execution_count": 33,
   "id": "5f21b19a",
   "metadata": {},
   "outputs": [],
   "source": [
    "# crash['Location_Description'] = crash.apply(na_convert_str, column='Location_Description', axis=1)\n",
    "# a = crash['Location_Description'].str.lower().str.cat(sep=' ')"
   ]
  },
  {
   "cell_type": "code",
   "execution_count": 34,
   "id": "60c2b125",
   "metadata": {},
   "outputs": [],
   "source": [
    "# def remove_number(text):\n",
    "#     text_nonum = re.sub(r'\\d+', '', text)\n",
    "#     return text_nonum"
   ]
  },
  {
   "cell_type": "code",
   "execution_count": 35,
   "id": "71699ccc",
   "metadata": {},
   "outputs": [],
   "source": [
    "# a = remove_number(a)"
   ]
  },
  {
   "cell_type": "code",
   "execution_count": 36,
   "id": "5ab164f8",
   "metadata": {},
   "outputs": [],
   "source": [
    "# from nltk.tokenize import RegexpTokenizer \n",
    "# tokenizer1 = RegexpTokenizer(r'\\w+')\n",
    "# tokens1 = tokenizer1.tokenize(a) \n",
    "# # recreate token list without stopwords\n",
    "# from nltk.corpus import stopwords\n",
    "# tokens1 = [token for token in tokens1 if token not in stopwords.words('english')]\n",
    "# # count the word frequencies\n",
    "# freq_dist1 = nltk.FreqDist(tokens1)\n",
    "# # display and graph the word frequncies\n",
    "# print(freq_dist1.most_common(50)) "
   ]
  },
  {
   "cell_type": "code",
   "execution_count": 37,
   "id": "124e6523",
   "metadata": {},
   "outputs": [],
   "source": [
    "# remove_words = ['feet', 'sr', 'rd', 'miles', 'pva','p.v.a', 'p', 'us', 'rd', 'v', 'st', 'hwy', 'dr', 'pkwy', 'nc', 'n', 'se', 'blvd', 'nw', 'av', 'sw', 'ave', 'e', 'r', 'ct', 'ln', 'pl', 'w', 'from']\n",
    "# tokens1 = [token for token in tokens1 if token not in remove_words]\n",
    "# # count the word frequencies\n",
    "# freq_dist1 = nltk.FreqDist(tokens1)\n",
    "# # display and graph the word frequncies\n",
    "# print(freq_dist1.most_common(50)) \n",
    "# freq_dist1.plot(20)"
   ]
  },
  {
   "cell_type": "markdown",
   "id": "f6141040",
   "metadata": {},
   "source": [
    "### 5. Vehicle - Weather"
   ]
  },
  {
   "cell_type": "code",
   "execution_count": 38,
   "id": "04552fe0",
   "metadata": {},
   "outputs": [],
   "source": [
    "crash['Vehicle1'] = crash.apply(na_convert_str, column='Vehicle1', axis=1)\n",
    "crash['Vehicle2'] = crash.apply(na_convert_str, column='Vehicle2', axis=1)\n",
    "crash['Vehicle3'] = crash.apply(na_convert_str, column='Vehicle3', axis=1)\n",
    "crash['Vehicle4'] = crash.apply(na_convert_str, column='Vehicle4', axis=1)\n",
    "crash['Weather'] = crash.apply(na_convert_str, column='Weather', axis=1)"
   ]
  },
  {
   "cell_type": "code",
   "execution_count": 39,
   "id": "1725316d",
   "metadata": {},
   "outputs": [],
   "source": [
    "vehicles = crash[['Vehicle1','Vehicle2','Vehicle3','Vehicle4']]\n",
    "vehicles = pd.melt(vehicles, value_vars=['Vehicle1','Vehicle2','Vehicle3','Vehicle4'])\n",
    "vehicles.rename({'value':'Vehicle'}, axis=1, inplace=True)"
   ]
  },
  {
   "cell_type": "code",
   "execution_count": 40,
   "id": "a346629b",
   "metadata": {},
   "outputs": [],
   "source": [
    "truck_list = ['']\n",
    "def vehicle_convert(s):\n",
    "    x = s['Vehicle']\n",
    "    if 'TRUCK' in x:\n",
    "        return 'TRUCK'\n",
    "    elif 'BUS' in x:\n",
    "        return 'BUS'\n",
    "    else:\n",
    "        return x"
   ]
  },
  {
   "cell_type": "code",
   "execution_count": 41,
   "id": "4230eec8",
   "metadata": {},
   "outputs": [],
   "source": [
    "vehicle_weather = crash[['Weather','Vehicle1','Vehicle2','Vehicle3','Vehicle4']]\n",
    "vehicle_weather = pd.melt(vehicle_weather, id_vars=['Weather'], value_vars=['Vehicle1','Vehicle2','Vehicle3','Vehicle4'])\n",
    "vehicle_weather = vehicle_weather.iloc[:,[0,2]]\n",
    "vehicle_weather.rename({'value':'Vehicle'}, axis=1, inplace=True)\n",
    "vehicle_weather['Vehicle'] = vehicles.apply(vehicle_convert, axis=1)"
   ]
  },
  {
   "cell_type": "code",
   "execution_count": 42,
   "id": "9b7d782e",
   "metadata": {},
   "outputs": [],
   "source": [
    "# vehicle_counts = vehicle_weather['New_Vehicle'].value_counts()\n",
    "# vehicle_counts = pd.DataFrame(vehicle_counts)\n",
    "# vehicle_counts.reset_index(inplace=True)\n",
    "# vehicle_counts.columns = ['Vehicle', 'Number_of_Crashes']\n",
    "# vehicle_counts = vehicle_counts[vehicle_counts['Vehicle'] != 'NONE']\n",
    "# fig = plt.figure()\n",
    "# ax = fig.add_axes([0,0,1,1])\n",
    "# ax.bar(vehicle_counts['Vehicle'], vehicle_counts['Number_of_Crashes'])\n",
    "# ax.set_ylabel('Number of Crashes')\n",
    "# ax.set_title('Number of crashes per type of vehicle ')\n",
    "# plt.xticks(rotation = 90)\n",
    "# plt.show()"
   ]
  },
  {
   "cell_type": "code",
   "execution_count": 43,
   "id": "00f568cf",
   "metadata": {},
   "outputs": [],
   "source": [
    "# convert types of weather into only 2 types: GOOD and BAD\n",
    "def weather_convert(s):\n",
    "    if s == 'CLEAR':\n",
    "        return 'GOOD'\n",
    "    elif s == 'NONE':\n",
    "        return s\n",
    "    else:\n",
    "        return 'BAD'"
   ]
  },
  {
   "cell_type": "code",
   "execution_count": 44,
   "id": "0ee8ea04",
   "metadata": {},
   "outputs": [],
   "source": [
    "vehicle_weather['Weather_2types'] = vehicle_weather['Weather'].apply(weather_convert)"
   ]
  },
  {
   "cell_type": "code",
   "execution_count": 45,
   "id": "6bd3c0c3",
   "metadata": {},
   "outputs": [
    {
     "data": {
      "text/html": [
       "<div>\n",
       "<style scoped>\n",
       "    .dataframe tbody tr th:only-of-type {\n",
       "        vertical-align: middle;\n",
       "    }\n",
       "\n",
       "    .dataframe tbody tr th {\n",
       "        vertical-align: top;\n",
       "    }\n",
       "\n",
       "    .dataframe thead th {\n",
       "        text-align: right;\n",
       "    }\n",
       "</style>\n",
       "<table border=\"1\" class=\"dataframe\">\n",
       "  <thead>\n",
       "    <tr style=\"text-align: right;\">\n",
       "      <th></th>\n",
       "      <th>Weather</th>\n",
       "      <th>Vehicle</th>\n",
       "      <th>Weather_2types</th>\n",
       "    </tr>\n",
       "  </thead>\n",
       "  <tbody>\n",
       "    <tr>\n",
       "      <th>0</th>\n",
       "      <td>CLEAR</td>\n",
       "      <td>VAN</td>\n",
       "      <td>GOOD</td>\n",
       "    </tr>\n",
       "    <tr>\n",
       "      <th>1</th>\n",
       "      <td>NONE</td>\n",
       "      <td>NONE</td>\n",
       "      <td>NONE</td>\n",
       "    </tr>\n",
       "    <tr>\n",
       "      <th>2</th>\n",
       "      <td>CLEAR</td>\n",
       "      <td>SPORT UTILITY</td>\n",
       "      <td>GOOD</td>\n",
       "    </tr>\n",
       "  </tbody>\n",
       "</table>\n",
       "</div>"
      ],
      "text/plain": [
       "  Weather        Vehicle Weather_2types\n",
       "0   CLEAR            VAN           GOOD\n",
       "1    NONE           NONE           NONE\n",
       "2   CLEAR  SPORT UTILITY           GOOD"
      ]
     },
     "execution_count": 45,
     "metadata": {},
     "output_type": "execute_result"
    }
   ],
   "source": [
    "vehicle_weather.head(3)"
   ]
  },
  {
   "cell_type": "code",
   "execution_count": 46,
   "id": "2a37e482",
   "metadata": {},
   "outputs": [],
   "source": [
    "vehicle_weather.to_csv('../data/vehicle_weather.csv', index=False)"
   ]
  },
  {
   "cell_type": "markdown",
   "id": "6176ec1e",
   "metadata": {},
   "source": [
    "## 6. Road_Configuration & Light_Condition"
   ]
  },
  {
   "cell_type": "code",
   "execution_count": 47,
   "id": "584cc61b",
   "metadata": {},
   "outputs": [],
   "source": [
    "# investigate about the factor 'DARTING'\n",
    "crash['Light_Condition'] = crash.apply(na_convert_str, column='Light_Condition', axis=1)\n",
    "crash['Road_Configuration'] = crash.apply(na_convert_str, column='Road_Configuration', axis=1)"
   ]
  },
  {
   "cell_type": "markdown",
   "id": "a62bfd09",
   "metadata": {},
   "source": [
    "## 7. Number of cars involved"
   ]
  },
  {
   "cell_type": "code",
   "execution_count": 48,
   "id": "6f9f2ec3",
   "metadata": {},
   "outputs": [],
   "source": [
    "def count_cars(row):\n",
    "    total = 0\n",
    "    cols = ['Vehicle1', 'Vehicle2', 'Vehicle3', 'Vehicle4', 'Vehicle5']\n",
    "    for c in cols:\n",
    "        if not isnan(row[c]) and row[c] != 'NONE':\n",
    "            total += 1\n",
    "    return total\n",
    "\n",
    "crash['num_vehicles'] = crash.apply(count_cars, axis=1)"
   ]
  },
  {
   "cell_type": "code",
   "execution_count": 49,
   "metadata": {},
   "outputs": [],
   "source": [
    "count_per_light_numcars = crash.groupby(['num_vehicles', 'Light_Condition'])['tamainid'].count().reset_index()\n",
    "count_per_light_numcars = count_per_light_numcars.rename(columns={'tamainid':'total_incidents'})\n",
    "# count_per_light_numcars\n",
    "\n",
    "count_per_numcars = count_per_light_numcars.groupby(['num_vehicles'])['total_incidents'].sum().reset_index()\n",
    "count_per_numcars = count_per_numcars.rename(columns={'total_incidents':'sum_incidents'})\n",
    "count_per_numcars\n",
    "\n",
    "count_per_light_totalcars = pd.merge(count_per_light_numcars, count_per_numcars, how='inner', on='num_vehicles')"
   ]
  },
  {
   "cell_type": "code",
   "execution_count": 50,
   "id": "3d8ff35c",
   "metadata": {},
   "outputs": [],
   "source": [
    "count_per_light_totalcars['rate'] = count_per_light_totalcars['total_incidents']/count_per_light_totalcars['sum_incidents']*100"
   ]
  },
  {
   "cell_type": "markdown",
   "id": "c8d10cf3",
   "metadata": {},
   "source": [
    "### 8. Fatality rate per each pair of vehicles"
   ]
  },
  {
   "cell_type": "code",
   "execution_count": 51,
   "id": "99d785f3",
   "metadata": {},
   "outputs": [],
   "source": [
    "cols = ['Vehicle1', 'Vehicle2', 'Fatalities']"
   ]
  },
  {
   "cell_type": "code",
   "execution_count": 52,
   "id": "200b69c2",
   "metadata": {},
   "outputs": [],
   "source": [
    "test = crash[cols].copy()\n",
    "test = test[(test['Vehicle1'] != 'NONE') & (test['Vehicle2'] != 'NONE')]\n",
    "test['Fatalities'] = test['Fatalities'].apply(lambda x: 1 if x == 'Yes' else 0)\n",
    "count_per_2vehs = test.groupby(['Vehicle1', 'Vehicle2'])['Fatalities'].count().reset_index()\n",
    "count_per_2vehs.rename(columns={'Fatalities':'total_records'}, inplace=True)"
   ]
  },
  {
   "cell_type": "code",
   "execution_count": 53,
   "id": "3c9e1c55",
   "metadata": {},
   "outputs": [],
   "source": [
    "total_fatalities_per_2vehs = test.groupby(['Vehicle1', 'Vehicle2'])['Fatalities'].sum().reset_index()\n",
    "total_fatalities_per_2vehs.rename(columns={'Fatalities':'total_fatalities'}, inplace=True)"
   ]
  },
  {
   "cell_type": "code",
   "execution_count": 54,
   "id": "7ccb7c12",
   "metadata": {},
   "outputs": [],
   "source": [
    "merge = pd.merge(count_per_2vehs, total_fatalities_per_2vehs, how='inner', on=['Vehicle1', 'Vehicle2'])"
   ]
  },
  {
   "cell_type": "code",
   "execution_count": 55,
   "id": "a3017451",
   "metadata": {},
   "outputs": [],
   "source": [
    "merge['fatality_rate'] = merge['total_fatalities']/merge['total_records']*100"
   ]
  },
  {
   "cell_type": "code",
   "execution_count": 56,
   "id": "fed96564",
   "metadata": {},
   "outputs": [],
   "source": [
    "fatality_rate_per_pairofvehicles = merge[merge['fatality_rate'] > 0]"
   ]
  },
  {
   "cell_type": "code",
   "execution_count": 57,
   "id": "3ee9f624",
   "metadata": {},
   "outputs": [],
   "source": [
    "fatality_rate_per_pairofvehicles.to_csv('../data/fatality_rate_per_pairofvehicles.csv', index=False)"
   ]
  },
  {
   "cell_type": "markdown",
   "id": "c7ef9cf4",
   "metadata": {},
   "source": [
    "## 9. Export the cleaned dataset "
   ]
  },
  {
   "cell_type": "code",
   "execution_count": 58,
   "id": "d2b29452",
   "metadata": {},
   "outputs": [],
   "source": [
    "crash.to_csv('../data/data_clean.csv', index=False, sep=';')"
   ]
  }
 ],
 "metadata": {
  "kernelspec": {
   "display_name": "Python 3",
   "language": "python",
   "name": "python3"
  },
  "language_info": {
   "codemirror_mode": {
    "name": "ipython",
    "version": 3
   },
   "file_extension": ".py",
   "mimetype": "text/x-python",
   "name": "python",
   "nbconvert_exporter": "python",
   "pygments_lexer": "ipython3",
   "version": "3.6.8"
  }
 },
 "nbformat": 4,
 "nbformat_minor": 5
}
