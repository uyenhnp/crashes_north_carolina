{
 "cells": [
  {
   "cell_type": "markdown",
   "id": "19a984c9",
   "metadata": {},
   "source": [
    "Uyen Huynh"
   ]
  },
  {
   "cell_type": "markdown",
   "id": "2997689b",
   "metadata": {},
   "source": [
    "# Crash Data from Town of Cary, North Carolina"
   ]
  },
  {
   "cell_type": "code",
   "execution_count": 1,
   "id": "ae6af751",
   "metadata": {},
   "outputs": [],
   "source": [
    "import pandas as pd\n",
    "import numpy as np\n",
    "import matplotlib.pyplot as plt\n",
    "import nltk\n",
    "import re"
   ]
  },
  {
   "cell_type": "code",
   "execution_count": 2,
   "id": "9e8e875e",
   "metadata": {},
   "outputs": [],
   "source": [
    "original_data = pd.read_csv(\"cpd-crash-incidents.csv\", sep=\";\")"
   ]
  },
  {
   "cell_type": "code",
   "execution_count": 3,
   "id": "e2f60d5c",
   "metadata": {},
   "outputs": [
    {
     "data": {
      "text/plain": [
       "PASSENGER CAR                           13619\n",
       "SPORT UTILITY                            5345\n",
       "PICKUP                                   2019\n",
       "VAN                                      1116\n",
       "UNKNOWN                                   358\n",
       "LIGHT TRUCK (MINI-VAN- PANEL)             276\n",
       "SINGLE UNIT TRUCK (2-AXLE- 6-TIRE)        221\n",
       "POLICE                                     30\n",
       "FIRETRUCK                                  17\n",
       "TRUCK/TRAILER                              14\n",
       "MOPED                                      14\n",
       "OTHER *                                    13\n",
       "EMS VEHICLE- AMBULANCE- RESCUE SQUAD       12\n",
       "MOTOR HOME/RECREATIONAL VEHICLE             8\n",
       "SINGLE UNIT TRUCK (3 OR MORE AXLES)         6\n",
       "UNKNOWN HEAVY TRUCK                         6\n",
       "ACTIVITY BUS                                5\n",
       "SCHOOL BUS                                  5\n",
       "TAXICAB                                     4\n",
       "TRACTOR/SEMI-TRAILER                        3\n",
       "Name: Vehicle1, dtype: int64"
      ]
     },
     "execution_count": 3,
     "metadata": {},
     "output_type": "execute_result"
    }
   ],
   "source": [
    "original_data['Vehicle1'].value_counts()"
   ]
  },
  {
   "cell_type": "code",
   "execution_count": 4,
   "id": "d878ebad",
   "metadata": {},
   "outputs": [],
   "source": [
    "# keep only necessary columns in the original dataset\n",
    "col = ['Location_Description', 'Road_Configuration', 'Light_Condition', 'Weather', 'Fatality', 'Injury', 'Contributing Factor', 'Traffic_Control', 'Vehicle1', 'Vehicle2', 'Vehicle3', 'Vehicle4', 'Vehicle5', 'Crash_Date', 'year', 'Fatalities', 'Injuries', 'Month']"
   ]
  },
  {
   "cell_type": "code",
   "execution_count": 5,
   "id": "66549f1e",
   "metadata": {},
   "outputs": [
    {
     "name": "stderr",
     "output_type": "stream",
     "text": [
      "/Users/uyenhuynh/.venv/python3.6/lib/python3.6/site-packages/pandas/core/frame.py:4308: SettingWithCopyWarning: \n",
      "A value is trying to be set on a copy of a slice from a DataFrame\n",
      "\n",
      "See the caveats in the documentation: https://pandas.pydata.org/pandas-docs/stable/user_guide/indexing.html#returning-a-view-versus-a-copy\n",
      "  errors=errors,\n"
     ]
    },
    {
     "data": {
      "text/plain": [
       "Index(['Location_Description', 'Road_Configuration', 'Light_Condition',\n",
       "       'Weather', 'Fatality', 'Injury', 'Contributing_Factor',\n",
       "       'Traffic_Control', 'Vehicle1', 'Vehicle2', 'Vehicle3', 'Vehicle4',\n",
       "       'Vehicle5', 'Crash_Date', 'year', 'Fatalities', 'Injuries', 'Month'],\n",
       "      dtype='object')"
      ]
     },
     "execution_count": 5,
     "metadata": {},
     "output_type": "execute_result"
    }
   ],
   "source": [
    "crash = original_data[col]\n",
    "crash.rename({'Contributing Factor': 'Contributing_Factor'}, axis=1, inplace=True)\n",
    "crash.columns"
   ]
  },
  {
   "cell_type": "markdown",
   "id": "4492a0db",
   "metadata": {},
   "source": [
    "## Data Cleaning & Data Analysis"
   ]
  },
  {
   "cell_type": "code",
   "execution_count": 6,
   "id": "c24ab1e4",
   "metadata": {},
   "outputs": [],
   "source": [
    "# function: convert NaN values into string 'None'\n",
    "def na_convert_str(data, column):\n",
    "    x = data[column]\n",
    "    if isinstance(x, str):\n",
    "        if x == 'UNKNOWN' or x == 'OTHER *':\n",
    "            return 'NONE'\n",
    "        else:\n",
    "            return x\n",
    "    else:\n",
    "        return 'NONE'"
   ]
  },
  {
   "cell_type": "markdown",
   "id": "4160063d",
   "metadata": {},
   "source": [
    "## 1. Summary Statistics Information"
   ]
  },
  {
   "cell_type": "code",
   "execution_count": 7,
   "id": "1763febe",
   "metadata": {},
   "outputs": [
    {
     "data": {
      "text/plain": [
       "2019    5034\n",
       "2018    5024\n",
       "2016    4858\n",
       "2017    4731\n",
       "2020    3196\n",
       "2021    1049\n",
       "Name: year, dtype: int64"
      ]
     },
     "execution_count": 7,
     "metadata": {},
     "output_type": "execute_result"
    }
   ],
   "source": [
    "crash['year'].value_counts()"
   ]
  },
  {
   "cell_type": "markdown",
   "id": "a8c6885c",
   "metadata": {},
   "source": [
    "## 2. The most factors"
   ]
  },
  {
   "cell_type": "code",
   "execution_count": 8,
   "id": "fd55552e",
   "metadata": {},
   "outputs": [],
   "source": [
    "def factor_clean(text):\n",
    "    words = ['NONE,', ',NONE', 'NONE', 'UNKNOWN,', ',UNKNOWN', 'UNKNOWN', 'OTHER *,', ',OTHER *', 'OTHER *']\n",
    "    for w in words:\n",
    "        new_text = text.replace(w, '')\n",
    "        text = new_text\n",
    "    return new_text"
   ]
  },
  {
   "cell_type": "code",
   "execution_count": 9,
   "id": "e670d86d",
   "metadata": {},
   "outputs": [
    {
     "name": "stderr",
     "output_type": "stream",
     "text": [
      "/Users/uyenhuynh/.venv/python3.6/lib/python3.6/site-packages/ipykernel_launcher.py:1: SettingWithCopyWarning: \n",
      "A value is trying to be set on a copy of a slice from a DataFrame.\n",
      "Try using .loc[row_indexer,col_indexer] = value instead\n",
      "\n",
      "See the caveats in the documentation: https://pandas.pydata.org/pandas-docs/stable/user_guide/indexing.html#returning-a-view-versus-a-copy\n",
      "  \"\"\"Entry point for launching an IPython kernel.\n",
      "/Users/uyenhuynh/.venv/python3.6/lib/python3.6/site-packages/ipykernel_launcher.py:2: SettingWithCopyWarning: \n",
      "A value is trying to be set on a copy of a slice from a DataFrame.\n",
      "Try using .loc[row_indexer,col_indexer] = value instead\n",
      "\n",
      "See the caveats in the documentation: https://pandas.pydata.org/pandas-docs/stable/user_guide/indexing.html#returning-a-view-versus-a-copy\n",
      "  \n"
     ]
    }
   ],
   "source": [
    "crash['Contributing_Factor'] = crash.apply(na_convert_str, column='Contributing_Factor', axis=1)\n",
    "crash['Contributing_Factor'] = crash['Contributing_Factor'].apply(factor_clean)"
   ]
  },
  {
   "cell_type": "code",
   "execution_count": 10,
   "id": "4404ea8c",
   "metadata": {},
   "outputs": [
    {
     "data": {
      "text/plain": [
       "                                     23366\n",
       "COMING FROM BEHIND PARKED VEHICLE      210\n",
       "DARTING                                116\n",
       "FAILURE TO YIELD RIGHT OF WAY           88\n",
       "LYING AND/OR ILLEGALLY IN ROADWAY       18\n",
       "NOT VISIBLE (DARK CLOTHING,ETC.)        15\n",
       "Name: Contributing_Factor, dtype: int64"
      ]
     },
     "execution_count": 10,
     "metadata": {},
     "output_type": "execute_result"
    }
   ],
   "source": [
    "# top reasons why most crashes happened\n",
    "crash['Contributing_Factor'].value_counts().head(6)"
   ]
  },
  {
   "cell_type": "code",
   "execution_count": 11,
   "id": "d3925c51",
   "metadata": {},
   "outputs": [
    {
     "data": {
      "text/plain": [
       "NO CONTROL PRESENT             155\n",
       "STOP AND GO SIGNAL              50\n",
       "STOP SIGN                       13\n",
       "FLASHING STOP AND GO SIGNAL      2\n",
       "OTHER *                          1\n",
       "Name: Traffic_Control, dtype: int64"
      ]
     },
     "execution_count": 11,
     "metadata": {},
     "output_type": "execute_result"
    }
   ],
   "source": [
    "# investigate about the factor 'COMING FROM BEHIND PARKED VEHICLE'\n",
    "factor1 = crash[crash['Contributing_Factor'].str.contains('COMING FROM BEHIND PARKED VEHICLE')]\n",
    "factor1.Traffic_Control.value_counts()"
   ]
  },
  {
   "cell_type": "markdown",
   "id": "2e14e8c5",
   "metadata": {},
   "source": [
    "## 3. Is there any specific time in a day when the majority of traffic accidents happen?"
   ]
  },
  {
   "cell_type": "code",
   "execution_count": 12,
   "id": "491eb77c",
   "metadata": {},
   "outputs": [
    {
     "name": "stderr",
     "output_type": "stream",
     "text": [
      "/Users/uyenhuynh/.venv/python3.6/lib/python3.6/site-packages/ipykernel_launcher.py:2: SettingWithCopyWarning: \n",
      "A value is trying to be set on a copy of a slice from a DataFrame.\n",
      "Try using .loc[row_indexer,col_indexer] = value instead\n",
      "\n",
      "See the caveats in the documentation: https://pandas.pydata.org/pandas-docs/stable/user_guide/indexing.html#returning-a-view-versus-a-copy\n",
      "  \n"
     ]
    }
   ],
   "source": [
    "# 'Crash_Date': extract the hour when the crash happened\n",
    "crash['Hour'] = crash['Crash_Date'].str[11:13]"
   ]
  },
  {
   "cell_type": "code",
   "execution_count": 13,
   "id": "d7f6353c",
   "metadata": {},
   "outputs": [],
   "source": [
    "hour_count = crash.groupby('Hour').Month.count()\n",
    "hour_count = pd.DataFrame(hour_count)\n",
    "hour_count.reset_index(inplace=True)\n",
    "hour_count.columns = ['Hour', 'Total_Crashes']"
   ]
  },
  {
   "cell_type": "code",
   "execution_count": 14,
   "id": "7aa4b1c4",
   "metadata": {},
   "outputs": [
    {
     "data": {
      "text/plain": [
       "[]"
      ]
     },
     "execution_count": 14,
     "metadata": {},
     "output_type": "execute_result"
    },
    {
     "data": {
      "image/png": "[encoded data removed]",
      "text/plain": [
       "<Figure size 720x360 with 1 Axes>"
      ]
     },
     "metadata": {
      "needs_background": "light"
     },
     "output_type": "display_data"
    }
   ],
   "source": [
    "fig = plt.figure(figsize=(10,5))\n",
    "ax = fig.add_subplot(1,1,1)\n",
    "ax.bar(hour_count['Hour'], hour_count['Total_Crashes'])\n",
    "plt.plot()"
   ]
  },
  {
   "cell_type": "markdown",
   "id": "7997238a",
   "metadata": {},
   "source": [
    "### Hourly Fatality Rate "
   ]
  },
  {
   "cell_type": "code",
   "execution_count": 15,
   "id": "358e80a9",
   "metadata": {},
   "outputs": [],
   "source": [
    "hour_count = crash.groupby('Hour').Fatality.count()\n",
    "hour_fatality = crash[crash['Fatalities'] == 'Yes'].groupby('Hour').Fatalities.count()\n",
    "fat_rate = pd.concat([hour_count, hour_fatality], axis=1)\n",
    "fat_rate.reset_index(inplace=True)\n",
    "fat_rate.columns = ['Hour', 'Total_Crashes', 'Total_Fatality_Cases']\n",
    "fat_rate['Total_Fatality_Cases'] = fat_rate['Total_Fatality_Cases'].fillna(0)\n",
    "fat_rate['Fatality_Rate'] = fat_rate['Total_Fatality_Cases']/fat_rate['Total_Crashes']"
   ]
  },
  {
   "cell_type": "code",
   "execution_count": 16,
   "id": "b5731866",
   "metadata": {},
   "outputs": [],
   "source": [
    "fat_rate.to_csv('fatality_rate_per_hour.csv', index=False)"
   ]
  },
  {
   "cell_type": "markdown",
   "id": "dd2c4b18",
   "metadata": {},
   "source": [
    "### Hourly Injury Rate"
   ]
  },
  {
   "cell_type": "code",
   "execution_count": 17,
   "id": "3af35b2b",
   "metadata": {},
   "outputs": [],
   "source": [
    "hour_injury = crash[crash['Injuries'] == 'Yes'].groupby('Hour').Injuries.count()\n",
    "inj_rate = pd.concat([hour_count, hour_injury], axis=1)\n",
    "inj_rate.reset_index(inplace=True)\n",
    "inj_rate.columns = ['Hour', 'Total_Crashes', 'Total_Injury_Cases']\n",
    "inj_rate['Total_Injury_Cases'] = inj_rate['Total_Injury_Cases'].fillna(0)\n",
    "inj_rate['Injury_Rate'] = inj_rate['Total_Injury_Cases']/fat_rate['Total_Crashes']"
   ]
  },
  {
   "cell_type": "code",
   "execution_count": 18,
   "id": "cb8c9346",
   "metadata": {},
   "outputs": [],
   "source": [
    "inj_rate.to_csv('injury_rate_per_hour.csv', index=False)"
   ]
  },
  {
   "cell_type": "markdown",
   "id": "fb52d581",
   "metadata": {},
   "source": [
    "### 4. Location_Description"
   ]
  },
  {
   "cell_type": "code",
   "execution_count": 19,
   "id": "5f21b19a",
   "metadata": {},
   "outputs": [
    {
     "name": "stderr",
     "output_type": "stream",
     "text": [
      "/Users/uyenhuynh/.venv/python3.6/lib/python3.6/site-packages/ipykernel_launcher.py:1: SettingWithCopyWarning: \n",
      "A value is trying to be set on a copy of a slice from a DataFrame.\n",
      "Try using .loc[row_indexer,col_indexer] = value instead\n",
      "\n",
      "See the caveats in the documentation: https://pandas.pydata.org/pandas-docs/stable/user_guide/indexing.html#returning-a-view-versus-a-copy\n",
      "  \"\"\"Entry point for launching an IPython kernel.\n"
     ]
    }
   ],
   "source": [
    "crash['Location_Description'] = crash.apply(na_convert_str, column='Location_Description', axis=1)\n",
    "a = crash['Location_Description'].str.lower().str.cat(sep=' ')"
   ]
  },
  {
   "cell_type": "code",
   "execution_count": 20,
   "id": "60c2b125",
   "metadata": {},
   "outputs": [],
   "source": [
    "def remove_number(text):\n",
    "    text_nonum = re.sub(r'\\d+', '', text)\n",
    "    return text_nonum"
   ]
  },
  {
   "cell_type": "code",
   "execution_count": 21,
   "id": "71699ccc",
   "metadata": {},
   "outputs": [],
   "source": [
    "a = remove_number(a)"
   ]
  },
  {
   "cell_type": "code",
   "execution_count": 22,
   "id": "5ab164f8",
   "metadata": {},
   "outputs": [
    {
     "name": "stdout",
     "output_type": "stream",
     "text": [
      "[('feet', 14253), ('sr', 6799), ('rd', 6110), ('miles', 5432), ('cary', 5371), ('pva', 2956), ('p', 2376), ('us', 2365), ('v', 2264), ('st', 2252), ('hwy', 2194), ('dr', 1950), ('pkwy', 1419), ('walnut', 1335), ('farm', 1332), ('kildaire', 1306), ('maynard', 1259), ('nc', 1109), ('n', 780), ('se', 756), ('blvd', 740), ('nw', 689), ('harrison', 685), ('tryon', 644), ('chapel', 634), ('high', 579), ('av', 541), ('house', 539), ('sw', 532), ('ten', 530), ('hill', 501), ('ave', 485), ('chatham', 483), ('e', 479), ('crossroads', 467), ('r', 463), ('jones', 412), ('green', 404), ('buck', 322), ('ct', 322), ('davis', 319), ('ln', 314), ('way', 311), ('ramp', 290), ('level', 278), ('pl', 261), ('w', 258), ('church', 248), ('carpenter', 238), ('weston', 200)]\n"
     ]
    }
   ],
   "source": [
    "from nltk.tokenize import RegexpTokenizer \n",
    "tokenizer1 = RegexpTokenizer(r'\\w+')\n",
    "tokens1 = tokenizer1.tokenize(a) \n",
    "# recreate token list without stopwords\n",
    "from nltk.corpus import stopwords\n",
    "tokens1 = [token for token in tokens1 if token not in stopwords.words('english')]\n",
    "# count the word frequencies\n",
    "freq_dist1 = nltk.FreqDist(tokens1)\n",
    "# display and graph the word frequncies\n",
    "print(freq_dist1.most_common(50)) "
   ]
  },
  {
   "cell_type": "code",
   "execution_count": 23,
   "id": "124e6523",
   "metadata": {},
   "outputs": [
    {
     "name": "stdout",
     "output_type": "stream",
     "text": [
      "[('cary', 5371), ('walnut', 1335), ('farm', 1332), ('kildaire', 1306), ('maynard', 1259), ('harrison', 685), ('tryon', 644), ('chapel', 634), ('high', 579), ('house', 539), ('ten', 530), ('hill', 501), ('chatham', 483), ('crossroads', 467), ('jones', 412), ('green', 404), ('buck', 322), ('davis', 319), ('way', 311), ('ramp', 290), ('level', 278), ('church', 248), ('carpenter', 238), ('weston', 200), ('park', 200), ('ne', 192), ('old', 176), ('parkway', 166), ('holly', 166), ('springs', 162), ('creek', 160), ('near', 158), ('regency', 156), ('towne', 149), ('morrisville', 144), ('mccrimmon', 128), ('sb', 125), ('apex', 121), ('lake', 121), ('okelly', 118), ('new', 114), ('village', 112), ('exit', 110), ('waverly', 106), ('cir', 105), ('caitboo', 101), ('west', 100), ('franklin', 100), ('nb', 96), ('south', 89)]\n"
     ]
    },
    {
     "data": {
      "image/png": "[encoded data removed]",
      "text/plain": [
       "<Figure size 432x288 with 1 Axes>"
      ]
     },
     "metadata": {
      "needs_background": "light"
     },
     "output_type": "display_data"
    },
    {
     "data": {
      "text/plain": [
       "<AxesSubplot:xlabel='Samples', ylabel='Counts'>"
      ]
     },
     "execution_count": 23,
     "metadata": {},
     "output_type": "execute_result"
    }
   ],
   "source": [
    "remove_words = ['feet', 'sr', 'rd', 'miles', 'pva','p.v.a', 'p', 'us', 'rd', 'v', 'st', 'hwy', 'dr', 'pkwy', 'nc', 'n', 'se', 'blvd', 'nw', 'av', 'sw', 'ave', 'e', 'r', 'ct', 'ln', 'pl', 'w', 'from']\n",
    "tokens1 = [token for token in tokens1 if token not in remove_words]\n",
    "# count the word frequencies\n",
    "freq_dist1 = nltk.FreqDist(tokens1)\n",
    "# display and graph the word frequncies\n",
    "print(freq_dist1.most_common(50)) \n",
    "freq_dist1.plot(20)"
   ]
  },
  {
   "cell_type": "code",
   "execution_count": 24,
   "id": "adfa5f08",
   "metadata": {},
   "outputs": [
    {
     "name": "stdout",
     "output_type": "stream",
     "text": [
      ".1 MILES FROM CARY PARKWAY\n",
      ".1 MILES FROM P.V.A. (1830 WALNUT ST)\n",
      "60 FEET FROM SR 1300 (KILDAIRE FARM RD)\n",
      "70 FEET FROM PVA 760 SW MAYNARD RD\n",
      "200 FEET FROM SR 1652 (N HARRISON AV)\n",
      "00 FEET FROM SR 1009 (TYRON RD)\n",
      "75 FEET FROM SR3081 (CHAPEL HILL RD)\n",
      "360 FEET FROM SR 1615 (HIGH HOUSE RD)\n",
      "30 FEET FROM SR 1011 (W CHATHAM ST)\n"
     ]
    }
   ],
   "source": [
    "examples = ['CARY', 'WALNUT', 'KILDAIRE', 'MAYNARD', 'HARRISON', 'TYRON', 'CHAPEL', 'HOUSE', 'CHATHAM']\n",
    "for example in examples:\n",
    "    print(crash[crash['Location_Description'].str.contains(example)].Location_Description.iloc[1])"
   ]
  },
  {
   "cell_type": "markdown",
   "id": "f6141040",
   "metadata": {},
   "source": [
    "### 5. Vehicle - Weather"
   ]
  },
  {
   "cell_type": "code",
   "execution_count": 25,
   "id": "04552fe0",
   "metadata": {},
   "outputs": [
    {
     "name": "stderr",
     "output_type": "stream",
     "text": [
      "/Users/uyenhuynh/.venv/python3.6/lib/python3.6/site-packages/ipykernel_launcher.py:1: SettingWithCopyWarning: \n",
      "A value is trying to be set on a copy of a slice from a DataFrame.\n",
      "Try using .loc[row_indexer,col_indexer] = value instead\n",
      "\n",
      "See the caveats in the documentation: https://pandas.pydata.org/pandas-docs/stable/user_guide/indexing.html#returning-a-view-versus-a-copy\n",
      "  \"\"\"Entry point for launching an IPython kernel.\n",
      "/Users/uyenhuynh/.venv/python3.6/lib/python3.6/site-packages/ipykernel_launcher.py:2: SettingWithCopyWarning: \n",
      "A value is trying to be set on a copy of a slice from a DataFrame.\n",
      "Try using .loc[row_indexer,col_indexer] = value instead\n",
      "\n",
      "See the caveats in the documentation: https://pandas.pydata.org/pandas-docs/stable/user_guide/indexing.html#returning-a-view-versus-a-copy\n",
      "  \n",
      "/Users/uyenhuynh/.venv/python3.6/lib/python3.6/site-packages/ipykernel_launcher.py:3: SettingWithCopyWarning: \n",
      "A value is trying to be set on a copy of a slice from a DataFrame.\n",
      "Try using .loc[row_indexer,col_indexer] = value instead\n",
      "\n",
      "See the caveats in the documentation: https://pandas.pydata.org/pandas-docs/stable/user_guide/indexing.html#returning-a-view-versus-a-copy\n",
      "  This is separate from the ipykernel package so we can avoid doing imports until\n",
      "/Users/uyenhuynh/.venv/python3.6/lib/python3.6/site-packages/ipykernel_launcher.py:4: SettingWithCopyWarning: \n",
      "A value is trying to be set on a copy of a slice from a DataFrame.\n",
      "Try using .loc[row_indexer,col_indexer] = value instead\n",
      "\n",
      "See the caveats in the documentation: https://pandas.pydata.org/pandas-docs/stable/user_guide/indexing.html#returning-a-view-versus-a-copy\n",
      "  after removing the cwd from sys.path.\n",
      "/Users/uyenhuynh/.venv/python3.6/lib/python3.6/site-packages/ipykernel_launcher.py:5: SettingWithCopyWarning: \n",
      "A value is trying to be set on a copy of a slice from a DataFrame.\n",
      "Try using .loc[row_indexer,col_indexer] = value instead\n",
      "\n",
      "See the caveats in the documentation: https://pandas.pydata.org/pandas-docs/stable/user_guide/indexing.html#returning-a-view-versus-a-copy\n",
      "  \"\"\"\n"
     ]
    }
   ],
   "source": [
    "crash['Vehicle1'] = crash.apply(na_convert_str, column='Vehicle1', axis=1)\n",
    "crash['Vehicle2'] = crash.apply(na_convert_str, column='Vehicle2', axis=1)\n",
    "crash['Vehicle3'] = crash.apply(na_convert_str, column='Vehicle3', axis=1)\n",
    "crash['Vehicle4'] = crash.apply(na_convert_str, column='Vehicle4', axis=1)\n",
    "crash['Weather'] = crash.apply(na_convert_str, column='Weather', axis=1)"
   ]
  },
  {
   "cell_type": "code",
   "execution_count": 26,
   "id": "1725316d",
   "metadata": {},
   "outputs": [],
   "source": [
    "vehicles = crash[['Vehicle1','Vehicle2','Vehicle3','Vehicle4']]\n",
    "vehicles = pd.melt(vehicles, value_vars=['Vehicle1','Vehicle2','Vehicle3','Vehicle4'])\n",
    "vehicles.rename({'value':'Vehicle'}, axis=1, inplace=True)"
   ]
  },
  {
   "cell_type": "code",
   "execution_count": 27,
   "id": "a346629b",
   "metadata": {},
   "outputs": [],
   "source": [
    "truck_list = ['']\n",
    "def vehicle_convert(s):\n",
    "    x = s['Vehicle']\n",
    "    if 'TRUCK' in x:\n",
    "        return 'TRUCK'\n",
    "    elif 'BUS' in x:\n",
    "        return 'BUS'\n",
    "    else:\n",
    "        return x"
   ]
  },
  {
   "cell_type": "code",
   "execution_count": 28,
   "id": "4230eec8",
   "metadata": {},
   "outputs": [],
   "source": [
    "vehicle_weather = crash[['Weather','Vehicle1','Vehicle2','Vehicle3','Vehicle4']]\n",
    "vehicle_weather = pd.melt(vehicle_weather, id_vars=['Weather'], value_vars=['Vehicle1','Vehicle2','Vehicle3','Vehicle4'])\n",
    "vehicle_weather = vehicle_weather.iloc[:,[0,2]]\n",
    "vehicle_weather.rename({'value':'Vehicle'}, axis=1, inplace=True)\n",
    "vehicle_weather['New_Vehicle'] = vehicles.apply(vehicle_convert, axis=1)"
   ]
  },
  {
   "cell_type": "code",
   "execution_count": 29,
   "id": "40779729",
   "metadata": {},
   "outputs": [
    {
     "data": {
      "text/plain": [
       "NONE                                    51556\n",
       "PASSENGER CAR                           26385\n",
       "SPORT UTILITY                           10573\n",
       "PICKUP                                   3831\n",
       "VAN                                      2217\n",
       "TRUCK                                     882\n",
       "POLICE                                     40\n",
       "MOPED                                      25\n",
       "EMS VEHICLE- AMBULANCE- RESCUE SQUAD       18\n",
       "MOTOR HOME/RECREATIONAL VEHICLE            14\n",
       "BUS                                        13\n",
       "TAXICAB                                     6\n",
       "TRACTOR/SEMI-TRAILER                        5\n",
       "AUTOCYCLE                                   1\n",
       "ALL TERRAIN VEHICLE (ATV)                   1\n",
       "FARM EQUIPMENT                              1\n",
       "Name: New_Vehicle, dtype: int64"
      ]
     },
     "execution_count": 29,
     "metadata": {},
     "output_type": "execute_result"
    }
   ],
   "source": [
    "vehicle_weather['New_Vehicle'].value_counts()"
   ]
  },
  {
   "cell_type": "code",
   "execution_count": 30,
   "id": "9b7d782e",
   "metadata": {},
   "outputs": [
    {
     "data": {
      "image/png": "[encoded data removed]",
      "text/plain": [
       "<Figure size 432x288 with 1 Axes>"
      ]
     },
     "metadata": {
      "needs_background": "light"
     },
     "output_type": "display_data"
    }
   ],
   "source": [
    "vehicle_counts = vehicle_weather['New_Vehicle'].value_counts()\n",
    "vehicle_counts = pd.DataFrame(vehicle_counts)\n",
    "vehicle_counts.reset_index(inplace=True)\n",
    "vehicle_counts.columns = ['Vehicle', 'Number_of_Crashes']\n",
    "vehicle_counts = vehicle_counts[vehicle_counts['Vehicle'] != 'NONE']\n",
    "fig = plt.figure()\n",
    "ax = fig.add_axes([0,0,1,1])\n",
    "ax.bar(vehicle_counts['Vehicle'], vehicle_counts['Number_of_Crashes'])\n",
    "ax.set_ylabel('Number of Crashes')\n",
    "ax.set_title('Number of crashes per type of vehicle ')\n",
    "plt.xticks(rotation = 90)\n",
    "plt.show()"
   ]
  },
  {
   "cell_type": "code",
   "execution_count": 31,
   "id": "00f568cf",
   "metadata": {},
   "outputs": [],
   "source": [
    "# convert types of weather into only 2 types: GOOD and BAD\n",
    "def weather_convert(s):\n",
    "    if s == 'CLEAR':\n",
    "        return 'GOOD'\n",
    "    elif s == 'NONE':\n",
    "        return s\n",
    "    else:\n",
    "        return 'BAD'"
   ]
  },
  {
   "cell_type": "code",
   "execution_count": 32,
   "id": "0ee8ea04",
   "metadata": {},
   "outputs": [],
   "source": [
    "vehicle_weather['Weather_2types'] = vehicle_weather['Weather'].apply(weather_convert)"
   ]
  },
  {
   "cell_type": "code",
   "execution_count": 33,
   "id": "2a37e482",
   "metadata": {},
   "outputs": [],
   "source": [
    "vehicle_weather.to_csv('vehicle_weather.csv', index=False)"
   ]
  },
  {
   "cell_type": "markdown",
   "id": "6176ec1e",
   "metadata": {},
   "source": [
    "## 6. Road_Configuration & Light_Condition"
   ]
  },
  {
   "cell_type": "code",
   "execution_count": 34,
   "id": "584cc61b",
   "metadata": {},
   "outputs": [
    {
     "name": "stderr",
     "output_type": "stream",
     "text": [
      "/Users/uyenhuynh/.venv/python3.6/lib/python3.6/site-packages/ipykernel_launcher.py:2: SettingWithCopyWarning: \n",
      "A value is trying to be set on a copy of a slice from a DataFrame.\n",
      "Try using .loc[row_indexer,col_indexer] = value instead\n",
      "\n",
      "See the caveats in the documentation: https://pandas.pydata.org/pandas-docs/stable/user_guide/indexing.html#returning-a-view-versus-a-copy\n",
      "  \n",
      "/Users/uyenhuynh/.venv/python3.6/lib/python3.6/site-packages/ipykernel_launcher.py:3: SettingWithCopyWarning: \n",
      "A value is trying to be set on a copy of a slice from a DataFrame.\n",
      "Try using .loc[row_indexer,col_indexer] = value instead\n",
      "\n",
      "See the caveats in the documentation: https://pandas.pydata.org/pandas-docs/stable/user_guide/indexing.html#returning-a-view-versus-a-copy\n",
      "  This is separate from the ipykernel package so we can avoid doing imports until\n"
     ]
    }
   ],
   "source": [
    "# investigate about the factor 'DARTING'\n",
    "crash['Light_Condition'] = crash.apply(na_convert_str, column='Light_Condition', axis=1)\n",
    "crash['Road_Configuration'] = crash.apply(na_convert_str, column='Road_Configuration', axis=1)"
   ]
  },
  {
   "cell_type": "markdown",
   "id": "c7ef9cf4",
   "metadata": {},
   "source": [
    "## 7. Export the cleaned dataset "
   ]
  },
  {
   "cell_type": "code",
   "execution_count": 35,
   "id": "d2b29452",
   "metadata": {},
   "outputs": [],
   "source": [
    "crash.to_csv('data_clean.csv', index=False, sep=';')"
   ]
  }
 ],
 "metadata": {
  "kernelspec": {
   "display_name": "Python 3",
   "language": "python",
   "name": "python3"
  },
  "language_info": {
   "codemirror_mode": {
    "name": "ipython",
    "version": 3
   },
   "file_extension": ".py",
   "mimetype": "text/x-python",
   "name": "python",
   "nbconvert_exporter": "python",
   "pygments_lexer": "ipython3",
   "version": "3.6.8"
  }
 },
 "nbformat": 4,
 "nbformat_minor": 5
}
